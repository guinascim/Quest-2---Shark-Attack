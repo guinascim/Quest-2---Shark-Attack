{
  "cells": [
    {
      "cell_type": "code",
      "execution_count": 2,
      "metadata": {
        "colab": {
          "base_uri": "https://localhost:8080/",
          "height": 463
        },
        "id": "yoNlRkYg2ftb",
        "outputId": "eeb5edb8-f8fb-4a4d-cc43-801cbc02cc6e"
      },
      "outputs": [
        {
          "name": "stderr",
          "output_type": "stream",
          "text": [
            "C:\\Users\\erik\\AppData\\Local\\Temp\\ipykernel_16724\\3037959222.py:1: DeprecationWarning: \n",
            "Pyarrow will become a required dependency of pandas in the next major release of pandas (pandas 3.0),\n",
            "(to allow more performant data types, such as the Arrow string type, and better interoperability with other libraries)\n",
            "but was not found to be installed on your system.\n",
            "If this would cause problems for you,\n",
            "please provide us feedback at https://github.com/pandas-dev/pandas/issues/54466\n",
            "        \n",
            "  import pandas as pd\n"
          ]
        },
        {
          "data": {
            "text/html": [
              "<div>\n",
              "<style scoped>\n",
              "    .dataframe tbody tr th:only-of-type {\n",
              "        vertical-align: middle;\n",
              "    }\n",
              "\n",
              "    .dataframe tbody tr th {\n",
              "        vertical-align: top;\n",
              "    }\n",
              "\n",
              "    .dataframe thead th {\n",
              "        text-align: right;\n",
              "    }\n",
              "</style>\n",
              "<table border=\"1\" class=\"dataframe\">\n",
              "  <thead>\n",
              "    <tr style=\"text-align: right;\">\n",
              "      <th></th>\n",
              "      <th>Date</th>\n",
              "      <th>Year</th>\n",
              "      <th>Type</th>\n",
              "      <th>Country</th>\n",
              "      <th>State</th>\n",
              "      <th>Location</th>\n",
              "      <th>Activity</th>\n",
              "      <th>Name</th>\n",
              "      <th>Sex</th>\n",
              "      <th>Age</th>\n",
              "      <th>...</th>\n",
              "      <th>Species</th>\n",
              "      <th>Source</th>\n",
              "      <th>pdf</th>\n",
              "      <th>href formula</th>\n",
              "      <th>href</th>\n",
              "      <th>Case Number</th>\n",
              "      <th>Case Number.1</th>\n",
              "      <th>original order</th>\n",
              "      <th>Unnamed: 21</th>\n",
              "      <th>Unnamed: 22</th>\n",
              "    </tr>\n",
              "  </thead>\n",
              "  <tbody>\n",
              "    <tr>\n",
              "      <th>0</th>\n",
              "      <td>19 Jan-2024 Reprted</td>\n",
              "      <td>2024</td>\n",
              "      <td>Provoked</td>\n",
              "      <td>BAHRAIN</td>\n",
              "      <td>NaN</td>\n",
              "      <td>Sakhir</td>\n",
              "      <td>Fishing</td>\n",
              "      <td>Michael Smith</td>\n",
              "      <td>M</td>\n",
              "      <td>33</td>\n",
              "      <td>...</td>\n",
              "      <td>NaN</td>\n",
              "      <td>Daily Star. 1/19.2024</td>\n",
              "      <td>NaN</td>\n",
              "      <td>NaN</td>\n",
              "      <td>NaN</td>\n",
              "      <td>NaN</td>\n",
              "      <td>NaN</td>\n",
              "      <td>NaN</td>\n",
              "      <td>NaN</td>\n",
              "      <td>NaN</td>\n",
              "    </tr>\n",
              "    <tr>\n",
              "      <th>1</th>\n",
              "      <td>15 Jan 2024</td>\n",
              "      <td>2024</td>\n",
              "      <td>Unprovoked</td>\n",
              "      <td>BAHAMAS</td>\n",
              "      <td>Paradise  Island</td>\n",
              "      <td>Mayan Temple, Atlantis Paradise Island Resort</td>\n",
              "      <td>Swimming</td>\n",
              "      <td>male</td>\n",
              "      <td>M</td>\n",
              "      <td>10</td>\n",
              "      <td>...</td>\n",
              "      <td>NaN</td>\n",
              "      <td>A. Currie, GSAF</td>\n",
              "      <td>NaN</td>\n",
              "      <td>NaN</td>\n",
              "      <td>NaN</td>\n",
              "      <td>NaN</td>\n",
              "      <td>NaN</td>\n",
              "      <td>NaN</td>\n",
              "      <td>NaN</td>\n",
              "      <td>NaN</td>\n",
              "    </tr>\n",
              "    <tr>\n",
              "      <th>2</th>\n",
              "      <td>09-Jan-2024</td>\n",
              "      <td>2024</td>\n",
              "      <td>Unprovoked</td>\n",
              "      <td>AUSTRALIA</td>\n",
              "      <td>South Australia</td>\n",
              "      <td>Walkers Beach, Elliston</td>\n",
              "      <td>Surfing</td>\n",
              "      <td>Murray Adams</td>\n",
              "      <td>M</td>\n",
              "      <td>64</td>\n",
              "      <td>...</td>\n",
              "      <td>White shark</td>\n",
              "      <td>A. Currie, GSAF</td>\n",
              "      <td>NaN</td>\n",
              "      <td>NaN</td>\n",
              "      <td>NaN</td>\n",
              "      <td>NaN</td>\n",
              "      <td>NaN</td>\n",
              "      <td>NaN</td>\n",
              "      <td>NaN</td>\n",
              "      <td>NaN</td>\n",
              "    </tr>\n",
              "    <tr>\n",
              "      <th>3</th>\n",
              "      <td>05-Jan-2024</td>\n",
              "      <td>2024</td>\n",
              "      <td>Provoked</td>\n",
              "      <td>SOUTH AFRICA</td>\n",
              "      <td>Eastern Cape Province</td>\n",
              "      <td>Papiesfontein</td>\n",
              "      <td>Fishing</td>\n",
              "      <td>male</td>\n",
              "      <td>M</td>\n",
              "      <td>62</td>\n",
              "      <td>...</td>\n",
              "      <td>Raggedtooth shark</td>\n",
              "      <td>Jacaranda fm. 1/6/2024</td>\n",
              "      <td>NaN</td>\n",
              "      <td>NaN</td>\n",
              "      <td>NaN</td>\n",
              "      <td>NaN</td>\n",
              "      <td>NaN</td>\n",
              "      <td>NaN</td>\n",
              "      <td>NaN</td>\n",
              "      <td>NaN</td>\n",
              "    </tr>\n",
              "    <tr>\n",
              "      <th>4</th>\n",
              "      <td>30 Dec-2023</td>\n",
              "      <td>2023</td>\n",
              "      <td>Unprovoked</td>\n",
              "      <td>USA</td>\n",
              "      <td>Hawaii</td>\n",
              "      <td>Baby Beach, Maui</td>\n",
              "      <td>Surfing</td>\n",
              "      <td>Jason Carter</td>\n",
              "      <td>M</td>\n",
              "      <td>39</td>\n",
              "      <td>...</td>\n",
              "      <td>NaN</td>\n",
              "      <td>Surfer, 12/31/2023</td>\n",
              "      <td>NaN</td>\n",
              "      <td>NaN</td>\n",
              "      <td>NaN</td>\n",
              "      <td>NaN</td>\n",
              "      <td>NaN</td>\n",
              "      <td>NaN</td>\n",
              "      <td>NaN</td>\n",
              "      <td>NaN</td>\n",
              "    </tr>\n",
              "  </tbody>\n",
              "</table>\n",
              "<p>5 rows × 23 columns</p>\n",
              "</div>"
            ],
            "text/plain": [
              "                  Date  Year        Type       Country                  State  \\\n",
              "0  19 Jan-2024 Reprted  2024    Provoked       BAHRAIN                    NaN   \n",
              "1          15 Jan 2024  2024  Unprovoked       BAHAMAS       Paradise  Island   \n",
              "2          09-Jan-2024  2024  Unprovoked     AUSTRALIA        South Australia   \n",
              "3          05-Jan-2024  2024    Provoked  SOUTH AFRICA  Eastern Cape Province   \n",
              "4          30 Dec-2023  2023  Unprovoked           USA                 Hawaii   \n",
              "\n",
              "                                        Location  Activity           Name Sex  \\\n",
              "0                                         Sakhir   Fishing  Michael Smith   M   \n",
              "1  Mayan Temple, Atlantis Paradise Island Resort  Swimming           male   M   \n",
              "2                        Walkers Beach, Elliston   Surfing   Murray Adams   M   \n",
              "3                                  Papiesfontein   Fishing           male   M   \n",
              "4                               Baby Beach, Maui   Surfing   Jason Carter   M   \n",
              "\n",
              "  Age  ...           Species                   Source  pdf href formula href  \\\n",
              "0  33  ...                NaN   Daily Star. 1/19.2024  NaN          NaN  NaN   \n",
              "1  10  ...                NaN         A. Currie, GSAF  NaN          NaN  NaN   \n",
              "2  64  ...        White shark         A. Currie, GSAF  NaN          NaN  NaN   \n",
              "3  62  ...  Raggedtooth shark  Jacaranda fm. 1/6/2024  NaN          NaN  NaN   \n",
              "4  39  ...                NaN      Surfer, 12/31/2023  NaN          NaN  NaN   \n",
              "\n",
              "  Case Number Case Number.1 original order Unnamed: 21 Unnamed: 22  \n",
              "0         NaN           NaN            NaN         NaN         NaN  \n",
              "1         NaN           NaN            NaN         NaN         NaN  \n",
              "2         NaN           NaN            NaN         NaN         NaN  \n",
              "3         NaN           NaN            NaN         NaN         NaN  \n",
              "4         NaN           NaN            NaN         NaN         NaN  \n",
              "\n",
              "[5 rows x 23 columns]"
            ]
          },
          "execution_count": 2,
          "metadata": {},
          "output_type": "execute_result"
        }
      ],
      "source": [
        "import pandas as pd\n",
        "import matplotlib.pyplot as plt\n",
        "import cleaning\n",
        "\n",
        "url = 'https://raw.githubusercontent.com/guinascim/Quest-2---Shark-Attack/main/MiniW2.csv'\n",
        "df_initial = pd.read_csv(url)\n",
        "df_initial.head()"
      ]
    },
    {
      "cell_type": "code",
      "execution_count": 3,
      "metadata": {
        "colab": {
          "base_uri": "https://localhost:8080/"
        },
        "id": "YbSoMxOh62pu",
        "outputId": "b5f1a37b-9f21-4d53-ddf7-2161339922c2"
      },
      "outputs": [
        {
          "data": {
            "text/plain": [
              "(6959, 23)"
            ]
          },
          "execution_count": 3,
          "metadata": {},
          "output_type": "execute_result"
        }
      ],
      "source": [
        "df_initial.shape"
      ]
    },
    {
      "cell_type": "code",
      "execution_count": 4,
      "metadata": {
        "colab": {
          "base_uri": "https://localhost:8080/"
        },
        "id": "cQytCxUc64xP",
        "outputId": "80cdbae2-52dd-4754-8bfa-8736129ece16"
      },
      "outputs": [
        {
          "name": "stdout",
          "output_type": "stream",
          "text": [
            "<class 'pandas.core.frame.DataFrame'>\n",
            "RangeIndex: 6959 entries, 0 to 6958\n",
            "Data columns (total 23 columns):\n",
            " #   Column          Non-Null Count  Dtype  \n",
            "---  ------          --------------  -----  \n",
            " 0   Date            6934 non-null   object \n",
            " 1   Year            6932 non-null   object \n",
            " 2   Type            6916 non-null   object \n",
            " 3   Country         6884 non-null   object \n",
            " 4   State           6452 non-null   object \n",
            " 5   Location        6370 non-null   object \n",
            " 6   Activity        6349 non-null   object \n",
            " 7   Name            6715 non-null   object \n",
            " 8   Sex             6355 non-null   object \n",
            " 9   Age             3944 non-null   object \n",
            " 10  Injury          6899 non-null   object \n",
            " 11  Unnamed: 11     6373 non-null   object \n",
            " 12  Time            3411 non-null   object \n",
            " 13  Species         3804 non-null   object \n",
            " 14  Source          6915 non-null   object \n",
            " 15  pdf             6799 non-null   object \n",
            " 16  href formula    6819 non-null   object \n",
            " 17  href            6796 non-null   object \n",
            " 18  Case Number     6798 non-null   object \n",
            " 19  Case Number.1   6797 non-null   object \n",
            " 20  original order  6799 non-null   float64\n",
            " 21  Unnamed: 21     1 non-null      object \n",
            " 22  Unnamed: 22     2 non-null      object \n",
            "dtypes: float64(1), object(22)\n",
            "memory usage: 1.2+ MB\n"
          ]
        }
      ],
      "source": [
        "df_initial.info()"
      ]
    },
    {
      "cell_type": "code",
      "execution_count": 5,
      "metadata": {
        "colab": {
          "base_uri": "https://localhost:8080/",
          "height": 446
        },
        "id": "VsdJVr8R9tpD",
        "outputId": "b22f127e-fc0a-4699-cc98-693f5e4dc0a4"
      },
      "outputs": [
        {
          "data": {
            "text/html": [
              "<div>\n",
              "<style scoped>\n",
              "    .dataframe tbody tr th:only-of-type {\n",
              "        vertical-align: middle;\n",
              "    }\n",
              "\n",
              "    .dataframe tbody tr th {\n",
              "        vertical-align: top;\n",
              "    }\n",
              "\n",
              "    .dataframe thead th {\n",
              "        text-align: right;\n",
              "    }\n",
              "</style>\n",
              "<table border=\"1\" class=\"dataframe\">\n",
              "  <thead>\n",
              "    <tr style=\"text-align: right;\">\n",
              "      <th></th>\n",
              "      <th>date</th>\n",
              "      <th>year</th>\n",
              "      <th>type</th>\n",
              "      <th>country</th>\n",
              "      <th>state</th>\n",
              "      <th>location</th>\n",
              "      <th>activity</th>\n",
              "      <th>name</th>\n",
              "      <th>sex</th>\n",
              "      <th>age</th>\n",
              "      <th>...</th>\n",
              "      <th>species</th>\n",
              "      <th>source</th>\n",
              "      <th>pdf</th>\n",
              "      <th>href_formula</th>\n",
              "      <th>href</th>\n",
              "      <th>case_number</th>\n",
              "      <th>case_number.1</th>\n",
              "      <th>original_order</th>\n",
              "      <th>unnamed:_21</th>\n",
              "      <th>unnamed:_22</th>\n",
              "    </tr>\n",
              "  </thead>\n",
              "  <tbody>\n",
              "    <tr>\n",
              "      <th>0</th>\n",
              "      <td>19 Jan-2024 Reprted</td>\n",
              "      <td>2024</td>\n",
              "      <td>Provoked</td>\n",
              "      <td>BAHRAIN</td>\n",
              "      <td>NaN</td>\n",
              "      <td>Sakhir</td>\n",
              "      <td>Fishing</td>\n",
              "      <td>Michael Smith</td>\n",
              "      <td>M</td>\n",
              "      <td>33</td>\n",
              "      <td>...</td>\n",
              "      <td>NaN</td>\n",
              "      <td>Daily Star. 1/19.2024</td>\n",
              "      <td>NaN</td>\n",
              "      <td>NaN</td>\n",
              "      <td>NaN</td>\n",
              "      <td>NaN</td>\n",
              "      <td>NaN</td>\n",
              "      <td>NaN</td>\n",
              "      <td>NaN</td>\n",
              "      <td>NaN</td>\n",
              "    </tr>\n",
              "    <tr>\n",
              "      <th>1</th>\n",
              "      <td>15 Jan 2024</td>\n",
              "      <td>2024</td>\n",
              "      <td>Unprovoked</td>\n",
              "      <td>BAHAMAS</td>\n",
              "      <td>Paradise  Island</td>\n",
              "      <td>Mayan Temple, Atlantis Paradise Island Resort</td>\n",
              "      <td>Swimming</td>\n",
              "      <td>male</td>\n",
              "      <td>M</td>\n",
              "      <td>10</td>\n",
              "      <td>...</td>\n",
              "      <td>NaN</td>\n",
              "      <td>A. Currie, GSAF</td>\n",
              "      <td>NaN</td>\n",
              "      <td>NaN</td>\n",
              "      <td>NaN</td>\n",
              "      <td>NaN</td>\n",
              "      <td>NaN</td>\n",
              "      <td>NaN</td>\n",
              "      <td>NaN</td>\n",
              "      <td>NaN</td>\n",
              "    </tr>\n",
              "    <tr>\n",
              "      <th>2</th>\n",
              "      <td>09-Jan-2024</td>\n",
              "      <td>2024</td>\n",
              "      <td>Unprovoked</td>\n",
              "      <td>AUSTRALIA</td>\n",
              "      <td>South Australia</td>\n",
              "      <td>Walkers Beach, Elliston</td>\n",
              "      <td>Surfing</td>\n",
              "      <td>Murray Adams</td>\n",
              "      <td>M</td>\n",
              "      <td>64</td>\n",
              "      <td>...</td>\n",
              "      <td>White shark</td>\n",
              "      <td>A. Currie, GSAF</td>\n",
              "      <td>NaN</td>\n",
              "      <td>NaN</td>\n",
              "      <td>NaN</td>\n",
              "      <td>NaN</td>\n",
              "      <td>NaN</td>\n",
              "      <td>NaN</td>\n",
              "      <td>NaN</td>\n",
              "      <td>NaN</td>\n",
              "    </tr>\n",
              "    <tr>\n",
              "      <th>3</th>\n",
              "      <td>05-Jan-2024</td>\n",
              "      <td>2024</td>\n",
              "      <td>Provoked</td>\n",
              "      <td>SOUTH AFRICA</td>\n",
              "      <td>Eastern Cape Province</td>\n",
              "      <td>Papiesfontein</td>\n",
              "      <td>Fishing</td>\n",
              "      <td>male</td>\n",
              "      <td>M</td>\n",
              "      <td>62</td>\n",
              "      <td>...</td>\n",
              "      <td>Raggedtooth shark</td>\n",
              "      <td>Jacaranda fm. 1/6/2024</td>\n",
              "      <td>NaN</td>\n",
              "      <td>NaN</td>\n",
              "      <td>NaN</td>\n",
              "      <td>NaN</td>\n",
              "      <td>NaN</td>\n",
              "      <td>NaN</td>\n",
              "      <td>NaN</td>\n",
              "      <td>NaN</td>\n",
              "    </tr>\n",
              "    <tr>\n",
              "      <th>4</th>\n",
              "      <td>30 Dec-2023</td>\n",
              "      <td>2023</td>\n",
              "      <td>Unprovoked</td>\n",
              "      <td>USA</td>\n",
              "      <td>Hawaii</td>\n",
              "      <td>Baby Beach, Maui</td>\n",
              "      <td>Surfing</td>\n",
              "      <td>Jason Carter</td>\n",
              "      <td>M</td>\n",
              "      <td>39</td>\n",
              "      <td>...</td>\n",
              "      <td>NaN</td>\n",
              "      <td>Surfer, 12/31/2023</td>\n",
              "      <td>NaN</td>\n",
              "      <td>NaN</td>\n",
              "      <td>NaN</td>\n",
              "      <td>NaN</td>\n",
              "      <td>NaN</td>\n",
              "      <td>NaN</td>\n",
              "      <td>NaN</td>\n",
              "      <td>NaN</td>\n",
              "    </tr>\n",
              "  </tbody>\n",
              "</table>\n",
              "<p>5 rows × 23 columns</p>\n",
              "</div>"
            ],
            "text/plain": [
              "                  date  year        type       country                  state  \\\n",
              "0  19 Jan-2024 Reprted  2024    Provoked       BAHRAIN                    NaN   \n",
              "1          15 Jan 2024  2024  Unprovoked       BAHAMAS       Paradise  Island   \n",
              "2          09-Jan-2024  2024  Unprovoked     AUSTRALIA        South Australia   \n",
              "3          05-Jan-2024  2024    Provoked  SOUTH AFRICA  Eastern Cape Province   \n",
              "4          30 Dec-2023  2023  Unprovoked           USA                 Hawaii   \n",
              "\n",
              "                                        location  activity           name sex  \\\n",
              "0                                         Sakhir   Fishing  Michael Smith   M   \n",
              "1  Mayan Temple, Atlantis Paradise Island Resort  Swimming           male   M   \n",
              "2                        Walkers Beach, Elliston   Surfing   Murray Adams   M   \n",
              "3                                  Papiesfontein   Fishing           male   M   \n",
              "4                               Baby Beach, Maui   Surfing   Jason Carter   M   \n",
              "\n",
              "  age  ...            species                  source  pdf href_formula href  \\\n",
              "0  33  ...                NaN   Daily Star. 1/19.2024  NaN          NaN  NaN   \n",
              "1  10  ...                NaN         A. Currie, GSAF  NaN          NaN  NaN   \n",
              "2  64  ...        White shark         A. Currie, GSAF  NaN          NaN  NaN   \n",
              "3  62  ...  Raggedtooth shark  Jacaranda fm. 1/6/2024  NaN          NaN  NaN   \n",
              "4  39  ...                NaN      Surfer, 12/31/2023  NaN          NaN  NaN   \n",
              "\n",
              "  case_number case_number.1 original_order unnamed:_21 unnamed:_22  \n",
              "0         NaN           NaN            NaN         NaN         NaN  \n",
              "1         NaN           NaN            NaN         NaN         NaN  \n",
              "2         NaN           NaN            NaN         NaN         NaN  \n",
              "3         NaN           NaN            NaN         NaN         NaN  \n",
              "4         NaN           NaN            NaN         NaN         NaN  \n",
              "\n",
              "[5 rows x 23 columns]"
            ]
          },
          "execution_count": 5,
          "metadata": {},
          "output_type": "execute_result"
        }
      ],
      "source": [
        "df_initial = cleaning.standardize_column_names(df_initial)\n",
        "df_initial.head()"
      ]
    },
    {
      "cell_type": "code",
      "execution_count": 6,
      "metadata": {
        "id": "a-N6o5Kb-Pfr"
      },
      "outputs": [],
      "source": [
        "#def standardize_column_names(df_initial):\n",
        "#    df_initial.columns = df_initial.columns.str.strip().str.replace(' ', '_').str.lower()\n",
        "#    return df_initial\n",
        "#df_initial = standardize_column_names(df_initial)\n",
        "#df_initial.head()"
      ]
    },
    {
      "cell_type": "code",
      "execution_count": 7,
      "metadata": {
        "id": "GImGQ8w-9xBH"
      },
      "outputs": [],
      "source": [
        "columns_to_remove = ['name', 'sex', 'age', 'source', 'pdf', 'href_formula', 'href', 'case_number', 'case_number.1', 'original_order', 'unnamed:_21', 'unnamed:_22', 'injury', 'time', 'activity']\n",
        "df_initial.drop(columns_to_remove, axis=1, inplace=True)"
      ]
    },
    {
      "cell_type": "code",
      "execution_count": 8,
      "metadata": {
        "colab": {
          "base_uri": "https://localhost:8080/",
          "height": 475
        },
        "id": "RWVLtJmICpku",
        "outputId": "9a2aaaff-ad09-4b37-885a-d44f6a5ae2d1"
      },
      "outputs": [
        {
          "data": {
            "text/html": [
              "<div>\n",
              "<style scoped>\n",
              "    .dataframe tbody tr th:only-of-type {\n",
              "        vertical-align: middle;\n",
              "    }\n",
              "\n",
              "    .dataframe tbody tr th {\n",
              "        vertical-align: top;\n",
              "    }\n",
              "\n",
              "    .dataframe thead th {\n",
              "        text-align: right;\n",
              "    }\n",
              "</style>\n",
              "<table border=\"1\" class=\"dataframe\">\n",
              "  <thead>\n",
              "    <tr style=\"text-align: right;\">\n",
              "      <th></th>\n",
              "      <th>date</th>\n",
              "      <th>year</th>\n",
              "      <th>type</th>\n",
              "      <th>country</th>\n",
              "      <th>state</th>\n",
              "      <th>location</th>\n",
              "      <th>unnamed:_11</th>\n",
              "      <th>species</th>\n",
              "    </tr>\n",
              "  </thead>\n",
              "  <tbody>\n",
              "    <tr>\n",
              "      <th>0</th>\n",
              "      <td>19 Jan-2024 Reprted</td>\n",
              "      <td>2024</td>\n",
              "      <td>Provoked</td>\n",
              "      <td>BAHRAIN</td>\n",
              "      <td>NaN</td>\n",
              "      <td>Sakhir</td>\n",
              "      <td>N</td>\n",
              "      <td>NaN</td>\n",
              "    </tr>\n",
              "    <tr>\n",
              "      <th>1</th>\n",
              "      <td>15 Jan 2024</td>\n",
              "      <td>2024</td>\n",
              "      <td>Unprovoked</td>\n",
              "      <td>BAHAMAS</td>\n",
              "      <td>Paradise  Island</td>\n",
              "      <td>Mayan Temple, Atlantis Paradise Island Resort</td>\n",
              "      <td>N</td>\n",
              "      <td>NaN</td>\n",
              "    </tr>\n",
              "    <tr>\n",
              "      <th>2</th>\n",
              "      <td>09-Jan-2024</td>\n",
              "      <td>2024</td>\n",
              "      <td>Unprovoked</td>\n",
              "      <td>AUSTRALIA</td>\n",
              "      <td>South Australia</td>\n",
              "      <td>Walkers Beach, Elliston</td>\n",
              "      <td>N</td>\n",
              "      <td>White shark</td>\n",
              "    </tr>\n",
              "    <tr>\n",
              "      <th>3</th>\n",
              "      <td>05-Jan-2024</td>\n",
              "      <td>2024</td>\n",
              "      <td>Provoked</td>\n",
              "      <td>SOUTH AFRICA</td>\n",
              "      <td>Eastern Cape Province</td>\n",
              "      <td>Papiesfontein</td>\n",
              "      <td>N</td>\n",
              "      <td>Raggedtooth shark</td>\n",
              "    </tr>\n",
              "    <tr>\n",
              "      <th>4</th>\n",
              "      <td>30 Dec-2023</td>\n",
              "      <td>2023</td>\n",
              "      <td>Unprovoked</td>\n",
              "      <td>USA</td>\n",
              "      <td>Hawaii</td>\n",
              "      <td>Baby Beach, Maui</td>\n",
              "      <td>Y</td>\n",
              "      <td>NaN</td>\n",
              "    </tr>\n",
              "    <tr>\n",
              "      <th>...</th>\n",
              "      <td>...</td>\n",
              "      <td>...</td>\n",
              "      <td>...</td>\n",
              "      <td>...</td>\n",
              "      <td>...</td>\n",
              "      <td>...</td>\n",
              "      <td>...</td>\n",
              "      <td>...</td>\n",
              "    </tr>\n",
              "    <tr>\n",
              "      <th>6954</th>\n",
              "      <td>NaN</td>\n",
              "      <td>NaN</td>\n",
              "      <td>NaN</td>\n",
              "      <td>NaN</td>\n",
              "      <td>NaN</td>\n",
              "      <td>NaN</td>\n",
              "      <td>NaN</td>\n",
              "      <td>NaN</td>\n",
              "    </tr>\n",
              "    <tr>\n",
              "      <th>6955</th>\n",
              "      <td>NaN</td>\n",
              "      <td>NaN</td>\n",
              "      <td>NaN</td>\n",
              "      <td>NaN</td>\n",
              "      <td>NaN</td>\n",
              "      <td>NaN</td>\n",
              "      <td>NaN</td>\n",
              "      <td>NaN</td>\n",
              "    </tr>\n",
              "    <tr>\n",
              "      <th>6956</th>\n",
              "      <td>NaN</td>\n",
              "      <td>NaN</td>\n",
              "      <td>NaN</td>\n",
              "      <td>NaN</td>\n",
              "      <td>NaN</td>\n",
              "      <td>NaN</td>\n",
              "      <td>NaN</td>\n",
              "      <td>NaN</td>\n",
              "    </tr>\n",
              "    <tr>\n",
              "      <th>6957</th>\n",
              "      <td>NaN</td>\n",
              "      <td>NaN</td>\n",
              "      <td>NaN</td>\n",
              "      <td>NaN</td>\n",
              "      <td>NaN</td>\n",
              "      <td>NaN</td>\n",
              "      <td>NaN</td>\n",
              "      <td>NaN</td>\n",
              "    </tr>\n",
              "    <tr>\n",
              "      <th>6958</th>\n",
              "      <td>NaN</td>\n",
              "      <td>NaN</td>\n",
              "      <td>NaN</td>\n",
              "      <td>NaN</td>\n",
              "      <td>NaN</td>\n",
              "      <td>NaN</td>\n",
              "      <td>NaN</td>\n",
              "      <td>NaN</td>\n",
              "    </tr>\n",
              "  </tbody>\n",
              "</table>\n",
              "<p>6959 rows × 8 columns</p>\n",
              "</div>"
            ],
            "text/plain": [
              "                     date  year        type       country  \\\n",
              "0     19 Jan-2024 Reprted  2024    Provoked       BAHRAIN   \n",
              "1             15 Jan 2024  2024  Unprovoked       BAHAMAS   \n",
              "2             09-Jan-2024  2024  Unprovoked     AUSTRALIA   \n",
              "3             05-Jan-2024  2024    Provoked  SOUTH AFRICA   \n",
              "4             30 Dec-2023  2023  Unprovoked           USA   \n",
              "...                   ...   ...         ...           ...   \n",
              "6954                  NaN   NaN         NaN           NaN   \n",
              "6955                  NaN   NaN         NaN           NaN   \n",
              "6956                  NaN   NaN         NaN           NaN   \n",
              "6957                  NaN   NaN         NaN           NaN   \n",
              "6958                  NaN   NaN         NaN           NaN   \n",
              "\n",
              "                      state                                       location  \\\n",
              "0                       NaN                                         Sakhir   \n",
              "1          Paradise  Island  Mayan Temple, Atlantis Paradise Island Resort   \n",
              "2           South Australia                        Walkers Beach, Elliston   \n",
              "3     Eastern Cape Province                                  Papiesfontein   \n",
              "4                    Hawaii                               Baby Beach, Maui   \n",
              "...                     ...                                            ...   \n",
              "6954                    NaN                                            NaN   \n",
              "6955                    NaN                                            NaN   \n",
              "6956                    NaN                                            NaN   \n",
              "6957                    NaN                                            NaN   \n",
              "6958                    NaN                                            NaN   \n",
              "\n",
              "     unnamed:_11            species  \n",
              "0              N                NaN  \n",
              "1              N                NaN  \n",
              "2              N        White shark  \n",
              "3              N  Raggedtooth shark  \n",
              "4              Y                NaN  \n",
              "...          ...                ...  \n",
              "6954         NaN                NaN  \n",
              "6955         NaN                NaN  \n",
              "6956         NaN                NaN  \n",
              "6957         NaN                NaN  \n",
              "6958         NaN                NaN  \n",
              "\n",
              "[6959 rows x 8 columns]"
            ]
          },
          "execution_count": 8,
          "metadata": {},
          "output_type": "execute_result"
        }
      ],
      "source": [
        "df_initial"
      ]
    },
    {
      "cell_type": "code",
      "execution_count": 9,
      "metadata": {
        "colab": {
          "base_uri": "https://localhost:8080/",
          "height": 206
        },
        "id": "G_h4jaZdHSWH",
        "outputId": "dbb13eb1-8c45-40fe-fcf8-89e87b5acda3"
      },
      "outputs": [
        {
          "data": {
            "text/html": [
              "<div>\n",
              "<style scoped>\n",
              "    .dataframe tbody tr th:only-of-type {\n",
              "        vertical-align: middle;\n",
              "    }\n",
              "\n",
              "    .dataframe tbody tr th {\n",
              "        vertical-align: top;\n",
              "    }\n",
              "\n",
              "    .dataframe thead th {\n",
              "        text-align: right;\n",
              "    }\n",
              "</style>\n",
              "<table border=\"1\" class=\"dataframe\">\n",
              "  <thead>\n",
              "    <tr style=\"text-align: right;\">\n",
              "      <th></th>\n",
              "      <th>date</th>\n",
              "      <th>year</th>\n",
              "      <th>type</th>\n",
              "      <th>country</th>\n",
              "      <th>state</th>\n",
              "      <th>location</th>\n",
              "      <th>fatal</th>\n",
              "      <th>species</th>\n",
              "    </tr>\n",
              "  </thead>\n",
              "  <tbody>\n",
              "    <tr>\n",
              "      <th>0</th>\n",
              "      <td>19 Jan-2024 Reprted</td>\n",
              "      <td>2024</td>\n",
              "      <td>Provoked</td>\n",
              "      <td>BAHRAIN</td>\n",
              "      <td>NaN</td>\n",
              "      <td>Sakhir</td>\n",
              "      <td>N</td>\n",
              "      <td>NaN</td>\n",
              "    </tr>\n",
              "    <tr>\n",
              "      <th>1</th>\n",
              "      <td>15 Jan 2024</td>\n",
              "      <td>2024</td>\n",
              "      <td>Unprovoked</td>\n",
              "      <td>BAHAMAS</td>\n",
              "      <td>Paradise  Island</td>\n",
              "      <td>Mayan Temple, Atlantis Paradise Island Resort</td>\n",
              "      <td>N</td>\n",
              "      <td>NaN</td>\n",
              "    </tr>\n",
              "    <tr>\n",
              "      <th>2</th>\n",
              "      <td>09-Jan-2024</td>\n",
              "      <td>2024</td>\n",
              "      <td>Unprovoked</td>\n",
              "      <td>AUSTRALIA</td>\n",
              "      <td>South Australia</td>\n",
              "      <td>Walkers Beach, Elliston</td>\n",
              "      <td>N</td>\n",
              "      <td>White shark</td>\n",
              "    </tr>\n",
              "    <tr>\n",
              "      <th>3</th>\n",
              "      <td>05-Jan-2024</td>\n",
              "      <td>2024</td>\n",
              "      <td>Provoked</td>\n",
              "      <td>SOUTH AFRICA</td>\n",
              "      <td>Eastern Cape Province</td>\n",
              "      <td>Papiesfontein</td>\n",
              "      <td>N</td>\n",
              "      <td>Raggedtooth shark</td>\n",
              "    </tr>\n",
              "    <tr>\n",
              "      <th>4</th>\n",
              "      <td>30 Dec-2023</td>\n",
              "      <td>2023</td>\n",
              "      <td>Unprovoked</td>\n",
              "      <td>USA</td>\n",
              "      <td>Hawaii</td>\n",
              "      <td>Baby Beach, Maui</td>\n",
              "      <td>Y</td>\n",
              "      <td>NaN</td>\n",
              "    </tr>\n",
              "  </tbody>\n",
              "</table>\n",
              "</div>"
            ],
            "text/plain": [
              "                  date  year        type       country                  state  \\\n",
              "0  19 Jan-2024 Reprted  2024    Provoked       BAHRAIN                    NaN   \n",
              "1          15 Jan 2024  2024  Unprovoked       BAHAMAS       Paradise  Island   \n",
              "2          09-Jan-2024  2024  Unprovoked     AUSTRALIA        South Australia   \n",
              "3          05-Jan-2024  2024    Provoked  SOUTH AFRICA  Eastern Cape Province   \n",
              "4          30 Dec-2023  2023  Unprovoked           USA                 Hawaii   \n",
              "\n",
              "                                        location fatal            species  \n",
              "0                                         Sakhir     N                NaN  \n",
              "1  Mayan Temple, Atlantis Paradise Island Resort     N                NaN  \n",
              "2                        Walkers Beach, Elliston     N        White shark  \n",
              "3                                  Papiesfontein     N  Raggedtooth shark  \n",
              "4                               Baby Beach, Maui     Y                NaN  "
            ]
          },
          "execution_count": 9,
          "metadata": {},
          "output_type": "execute_result"
        }
      ],
      "source": [
        "df_initial = df_initial.rename(columns={'unnamed:_11': 'fatal'})\n",
        "df_initial.head()"
      ]
    },
    {
      "cell_type": "code",
      "execution_count": 10,
      "metadata": {
        "colab": {
          "base_uri": "https://localhost:8080/"
        },
        "id": "2CbzclcqJFGQ",
        "outputId": "ae9aba71-048a-4f22-c311-259a7e97bfe7"
      },
      "outputs": [
        {
          "data": {
            "text/plain": [
              "array(['BAHRAIN', 'BAHAMAS', 'AUSTRALIA', 'SOUTH AFRICA', 'USA', 'MEXICO',\n",
              "       'NEW ZEALAND', 'EGYPT', 'Mexico', 'BELIZE', 'PHILIPPINES',\n",
              "       'Coral Sea', 'SPAIN', 'PORTUGAL', 'COLOMBIA', 'ECUADOR',\n",
              "       'FRENCH POLYNESIA', 'NEW CALEDONIA', 'TURKS and CaICOS', 'BRAZIL',\n",
              "       'SEYCHELLES', 'ARGENTINA', 'FIJI', 'MeXICO', 'Maldives',\n",
              "       'South Africa', 'ENGLAND', 'JAPAN', 'INDONESIA', 'JAMAICA',\n",
              "       'MALDIVES', 'THAILAND', 'COLUMBIA', 'COSTA RICA', 'New Zealand',\n",
              "       'British Overseas Territory', 'CANADA', 'JORDAN',\n",
              "       'ST KITTS / NEVIS', 'ST MARTIN', 'PAPUA NEW GUINEA',\n",
              "       'REUNION ISLAND', 'ISRAEL', 'CHINA', 'SAMOA', 'IRELAND', 'ITALY',\n",
              "       'MALAYSIA', 'LIBYA', nan, 'CUBA', 'MAURITIUS', 'SOLOMON ISLANDS',\n",
              "       'ST HELENA, British overseas territory', 'COMOROS', 'REUNION',\n",
              "       'UNITED KINGDOM', 'UNITED ARAB EMIRATES', 'CAPE VERDE', 'Fiji',\n",
              "       'DOMINICAN REPUBLIC', 'CAYMAN ISLANDS', 'ARUBA', 'MOZAMBIQUE',\n",
              "       'PUERTO RICO', 'ATLANTIC OCEAN', 'GREECE', 'ST. MARTIN', 'FRANCE',\n",
              "       'TRINIDAD & TOBAGO', 'KIRIBATI', 'DIEGO GARCIA', 'TAIWAN',\n",
              "       'PALESTINIAN TERRITORIES', 'GUAM', 'NIGERIA', 'TONGA', 'SCOTLAND',\n",
              "       'CROATIA', 'SAUDI ARABIA', 'CHILE', 'ANTIGUA', 'KENYA', 'RUSSIA',\n",
              "       'TURKS & CAICOS', 'UNITED ARAB EMIRATES (UAE)', 'AZORES',\n",
              "       'SOUTH KOREA', 'MALTA', 'VIETNAM', 'MADAGASCAR', 'PANAMA',\n",
              "       'SOMALIA', 'NEVIS', 'BRITISH VIRGIN ISLANDS', 'NORWAY', 'SENEGAL',\n",
              "       'YEMEN', 'GULF OF ADEN', 'Sierra Leone', 'ST. MAARTIN',\n",
              "       'GRAND CAYMAN', 'Seychelles', 'LIBERIA', 'VANUATU', 'MEXICO ',\n",
              "       'HONDURAS', 'VENEZUELA', 'SRI LANKA', ' TONGA', 'URUGUAY', 'INDIA',\n",
              "       'MICRONESIA', 'CARIBBEAN SEA', 'OKINAWA', 'TANZANIA',\n",
              "       'MARSHALL ISLANDS', 'EGYPT / ISRAEL', 'NORTHERN ARABIAN SEA',\n",
              "       'HONG KONG', 'EL SALVADOR', 'ANGOLA', 'BERMUDA', 'MONTENEGRO',\n",
              "       'IRAN', 'TUNISIA', 'NAMIBIA', 'NORTH ATLANTIC OCEAN',\n",
              "       'SOUTH CHINA SEA', 'BANGLADESH', 'PALAU', 'WESTERN SAMOA',\n",
              "       'PACIFIC OCEAN ', 'BRITISH ISLES', 'GRENADA', 'IRAQ', 'TURKEY',\n",
              "       'SINGAPORE', 'NEW BRITAIN', 'SUDAN', 'JOHNSTON ISLAND',\n",
              "       'SOUTH PACIFIC OCEAN', 'NEW GUINEA', 'RED SEA',\n",
              "       'NORTH PACIFIC OCEAN', 'FEDERATED STATES OF MICRONESIA',\n",
              "       'MID ATLANTIC OCEAN', 'ADMIRALTY ISLANDS', 'BRITISH WEST INDIES',\n",
              "       'SOUTH ATLANTIC OCEAN', 'PERSIAN GULF', 'RED SEA / INDIAN OCEAN',\n",
              "       'PACIFIC OCEAN', 'NORTH SEA', 'NICARAGUA ', 'MALDIVE ISLANDS',\n",
              "       'AMERICAN SAMOA', 'ANDAMAN / NICOBAR ISLANDAS', 'GABON', 'MAYOTTE',\n",
              "       'NORTH ATLANTIC OCEAN ', 'THE BALKANS', 'SUDAN?', 'MARTINIQUE',\n",
              "       'INDIAN OCEAN', 'GUATEMALA', 'NETHERLANDS ANTILLES',\n",
              "       'NORTHERN MARIANA ISLANDS', 'IRAN / IRAQ', 'JAVA', 'SIERRA LEONE',\n",
              "       ' PHILIPPINES', 'NICARAGUA', 'CENTRAL PACIFIC',\n",
              "       'SOLOMON ISLANDS / VANUATU', 'SOUTHWEST PACIFIC OCEAN',\n",
              "       'BAY OF BENGAL', 'MID-PACIFC OCEAN', 'SLOVENIA', 'CURACAO',\n",
              "       'ICELAND', 'ITALY / CROATIA', 'BARBADOS', 'MONACO', 'GUYANA',\n",
              "       'HAITI', 'SAN DOMINGO', 'KUWAIT', 'YEMEN ', 'FALKLAND ISLANDS',\n",
              "       'CRETE', 'CYPRUS', 'EGYPT ', 'WEST INDIES', 'BURMA', 'LEBANON',\n",
              "       'PARAGUAY', 'BRITISH NEW GUINEA', 'CEYLON', 'OCEAN', 'GEORGIA',\n",
              "       'SYRIA', 'TUVALU', 'INDIAN OCEAN?', 'GUINEA', 'ANDAMAN ISLANDS',\n",
              "       'EQUATORIAL GUINEA / CAMEROON', 'COOK ISLANDS', 'TOBAGO', 'PERU',\n",
              "       'AFRICA', 'ALGERIA', 'Coast of AFRICA', 'TASMAN SEA', 'GHANA',\n",
              "       'GREENLAND', 'MEDITERRANEAN SEA', 'SWEDEN', 'ROATAN',\n",
              "       'Between PORTUGAL & INDIA', 'DJIBOUTI', 'BAHREIN', 'KOREA',\n",
              "       'RED SEA?', 'ASIA?', 'CEYLON (SRI LANKA)'], dtype=object)"
            ]
          },
          "execution_count": 10,
          "metadata": {},
          "output_type": "execute_result"
        }
      ],
      "source": [
        "df_initial['country'].unique()"
      ]
    },
    {
      "cell_type": "code",
      "execution_count": 11,
      "metadata": {
        "colab": {
          "base_uri": "https://localhost:8080/"
        },
        "id": "0CV68VUyKAhg",
        "outputId": "abc0b377-e4c3-491a-f7cc-0b83540f34f1"
      },
      "outputs": [
        {
          "data": {
            "text/plain": [
              "array(['bahrain', 'bahamas', 'australia', 'south_africa', 'usa', 'mexico',\n",
              "       'new_zealand', 'egypt', 'belize', 'philippines', 'coral_sea',\n",
              "       'spain', 'portugal', 'colombia', 'ecuador', 'french_polynesia',\n",
              "       'new_caledonia', 'turks_and_caicos', 'brazil', 'seychelles',\n",
              "       'argentina', 'fiji', 'maldives', 'england', 'japan', 'indonesia',\n",
              "       'jamaica', 'thailand', 'columbia', 'costa_rica',\n",
              "       'british_overseas_territory', 'canada', 'jordan',\n",
              "       'st_kitts_/_nevis', 'st_martin', 'papua_new_guinea',\n",
              "       'reunion_island', 'israel', 'china', 'samoa', 'ireland', 'italy',\n",
              "       'malaysia', 'libya', nan, 'cuba', 'mauritius', 'solomon_islands',\n",
              "       'st_helena,_british_overseas_territory', 'comoros', 'reunion',\n",
              "       'united_kingdom', 'united_arab_emirates', 'cape_verde',\n",
              "       'dominican_republic', 'cayman_islands', 'aruba', 'mozambique',\n",
              "       'puerto_rico', 'atlantic_ocean', 'greece', 'st._martin', 'france',\n",
              "       'trinidad_&_tobago', 'kiribati', 'diego_garcia', 'taiwan',\n",
              "       'palestinian_territories', 'guam', 'nigeria', 'tonga', 'scotland',\n",
              "       'croatia', 'saudi_arabia', 'chile', 'antigua', 'kenya', 'russia',\n",
              "       'turks_&_caicos', 'united_arab_emirates_(uae)', 'azores',\n",
              "       'south_korea', 'malta', 'vietnam', 'madagascar', 'panama',\n",
              "       'somalia', 'nevis', 'british_virgin_islands', 'norway', 'senegal',\n",
              "       'yemen', 'gulf_of_aden', 'sierra_leone', 'st._maartin',\n",
              "       'grand_cayman', 'liberia', 'vanuatu', 'honduras', 'venezuela',\n",
              "       'sri_lanka', 'uruguay', 'india', 'micronesia', 'caribbean_sea',\n",
              "       'okinawa', 'tanzania', 'marshall_islands', 'egypt_/_israel',\n",
              "       'northern_arabian_sea', 'hong_kong', 'el_salvador', 'angola',\n",
              "       'bermuda', 'montenegro', 'iran', 'tunisia', 'namibia',\n",
              "       'north_atlantic_ocean', 'south_china_sea', 'bangladesh', 'palau',\n",
              "       'western_samoa', 'pacific_ocean', 'british_isles', 'grenada',\n",
              "       'iraq', 'turkey', 'singapore', 'new_britain', 'sudan',\n",
              "       'johnston_island', 'south_pacific_ocean', 'new_guinea', 'red_sea',\n",
              "       'north_pacific_ocean', 'federated_states_of_micronesia',\n",
              "       'mid_atlantic_ocean', 'admiralty_islands', 'british_west_indies',\n",
              "       'south_atlantic_ocean', 'persian_gulf', 'red_sea_/_indian_ocean',\n",
              "       'north_sea', 'nicaragua', 'maldive_islands', 'american_samoa',\n",
              "       'andaman_/_nicobar_islandas', 'gabon', 'mayotte', 'the_balkans',\n",
              "       'sudan?', 'martinique', 'indian_ocean', 'guatemala',\n",
              "       'netherlands_antilles', 'northern_mariana_islands', 'iran_/_iraq',\n",
              "       'java', 'central_pacific', 'solomon_islands_/_vanuatu',\n",
              "       'southwest_pacific_ocean', 'bay_of_bengal', 'mid-pacifc_ocean',\n",
              "       'slovenia', 'curacao', 'iceland', 'italy_/_croatia', 'barbados',\n",
              "       'monaco', 'guyana', 'haiti', 'san_domingo', 'kuwait',\n",
              "       'falkland_islands', 'crete', 'cyprus', 'west_indies', 'burma',\n",
              "       'lebanon', 'paraguay', 'british_new_guinea', 'ceylon', 'ocean',\n",
              "       'georgia', 'syria', 'tuvalu', 'indian_ocean?', 'guinea',\n",
              "       'andaman_islands', 'equatorial_guinea_/_cameroon', 'cook_islands',\n",
              "       'tobago', 'peru', 'africa', 'algeria', 'coast_of_africa',\n",
              "       'tasman_sea', 'ghana', 'greenland', 'mediterranean_sea', 'sweden',\n",
              "       'roatan', 'between_portugal_&_india', 'djibouti', 'bahrein',\n",
              "       'korea', 'red_sea?', 'asia?', 'ceylon_(sri_lanka)'], dtype=object)"
            ]
          },
          "execution_count": 11,
          "metadata": {},
          "output_type": "execute_result"
        }
      ],
      "source": [
        "df_initial['country'] = df_initial['country'].str.strip().str.replace(' ', '_').str.lower()\n",
        "df_initial['country'].unique()"
      ]
    },
    {
      "cell_type": "code",
      "execution_count": 12,
      "metadata": {
        "colab": {
          "base_uri": "https://localhost:8080/",
          "height": 206
        },
        "id": "QG6oDNASK_fV",
        "outputId": "86a28425-bdbd-4b87-a5de-72bd2f58e653"
      },
      "outputs": [
        {
          "data": {
            "text/html": [
              "<div>\n",
              "<style scoped>\n",
              "    .dataframe tbody tr th:only-of-type {\n",
              "        vertical-align: middle;\n",
              "    }\n",
              "\n",
              "    .dataframe tbody tr th {\n",
              "        vertical-align: top;\n",
              "    }\n",
              "\n",
              "    .dataframe thead th {\n",
              "        text-align: right;\n",
              "    }\n",
              "</style>\n",
              "<table border=\"1\" class=\"dataframe\">\n",
              "  <thead>\n",
              "    <tr style=\"text-align: right;\">\n",
              "      <th></th>\n",
              "      <th>date</th>\n",
              "      <th>year</th>\n",
              "      <th>type</th>\n",
              "      <th>country</th>\n",
              "      <th>state</th>\n",
              "      <th>location</th>\n",
              "      <th>fatal</th>\n",
              "      <th>species</th>\n",
              "    </tr>\n",
              "  </thead>\n",
              "  <tbody>\n",
              "    <tr>\n",
              "      <th>6881</th>\n",
              "      <td>Before 1958</td>\n",
              "      <td>0000</td>\n",
              "      <td>Unprovoked</td>\n",
              "      <td>usa</td>\n",
              "      <td>Florida</td>\n",
              "      <td>Palm Beach, Palm Beach County</td>\n",
              "      <td>N</td>\n",
              "      <td>NaN</td>\n",
              "    </tr>\n",
              "    <tr>\n",
              "      <th>6915</th>\n",
              "      <td>Before 1921</td>\n",
              "      <td>0000</td>\n",
              "      <td>Unprovoked</td>\n",
              "      <td>usa</td>\n",
              "      <td>Florida</td>\n",
              "      <td>Gadsden Point, Tampa Bay</td>\n",
              "      <td>N</td>\n",
              "      <td>NaN</td>\n",
              "    </tr>\n",
              "    <tr>\n",
              "      <th>6920</th>\n",
              "      <td>Before 17-Jul-1916</td>\n",
              "      <td>0000</td>\n",
              "      <td>Unprovoked</td>\n",
              "      <td>usa</td>\n",
              "      <td>North Carolina</td>\n",
              "      <td>Somewhere between Hatteras and Beaufort</td>\n",
              "      <td>N</td>\n",
              "      <td>NaN</td>\n",
              "    </tr>\n",
              "    <tr>\n",
              "      <th>6924</th>\n",
              "      <td>Circa 1862</td>\n",
              "      <td>0000</td>\n",
              "      <td>Unprovoked</td>\n",
              "      <td>usa</td>\n",
              "      <td>Hawaii</td>\n",
              "      <td>Puna</td>\n",
              "      <td>N</td>\n",
              "      <td>NaN</td>\n",
              "    </tr>\n",
              "    <tr>\n",
              "      <th>6931</th>\n",
              "      <td>1900-1905</td>\n",
              "      <td>0000</td>\n",
              "      <td>Unprovoked</td>\n",
              "      <td>usa</td>\n",
              "      <td>North Carolina</td>\n",
              "      <td>Ocracoke Inlet</td>\n",
              "      <td>Y</td>\n",
              "      <td>NaN</td>\n",
              "    </tr>\n",
              "  </tbody>\n",
              "</table>\n",
              "</div>"
            ],
            "text/plain": [
              "                    date  year        type country            state  \\\n",
              "6881         Before 1958  0000  Unprovoked     usa          Florida   \n",
              "6915         Before 1921  0000  Unprovoked     usa          Florida   \n",
              "6920  Before 17-Jul-1916  0000  Unprovoked     usa  North Carolina    \n",
              "6924          Circa 1862  0000  Unprovoked     usa           Hawaii   \n",
              "6931           1900-1905  0000  Unprovoked     usa   North Carolina   \n",
              "\n",
              "                                     location fatal species  \n",
              "6881            Palm Beach, Palm Beach County     N     NaN  \n",
              "6915                 Gadsden Point, Tampa Bay     N     NaN  \n",
              "6920  Somewhere between Hatteras and Beaufort     N     NaN  \n",
              "6924                                     Puna     N     NaN  \n",
              "6931                           Ocracoke Inlet     Y     NaN  "
            ]
          },
          "execution_count": 12,
          "metadata": {},
          "output_type": "execute_result"
        }
      ],
      "source": [
        "df_initial = df_initial[df_initial['country'] == 'usa']\n",
        "df_initial.tail()"
      ]
    },
    {
      "cell_type": "code",
      "execution_count": 13,
      "metadata": {
        "colab": {
          "base_uri": "https://localhost:8080/"
        },
        "id": "iPFYQXgRL1c9",
        "outputId": "4c54f6a3-4211-4f2e-a217-5e1b18e13ce6"
      },
      "outputs": [
        {
          "data": {
            "text/plain": [
              "(2536, 8)"
            ]
          },
          "execution_count": 13,
          "metadata": {},
          "output_type": "execute_result"
        }
      ],
      "source": [
        "df_initial.shape"
      ]
    },
    {
      "cell_type": "code",
      "execution_count": 14,
      "metadata": {
        "colab": {
          "base_uri": "https://localhost:8080/"
        },
        "id": "_Wuy7Z2LSXQS",
        "outputId": "f62db0c9-83f9-4a94-f0eb-4efbc8e5a177"
      },
      "outputs": [
        {
          "data": {
            "text/plain": [
              "array(['Hawaii', 'Florida', 'California', 'South Carolina',\n",
              "       'North Carolina', 'New York', 'New Jersey', 'Samoa', 'Texas',\n",
              "       'Louisiana', 'Mississippi', 'Noirth Carolina', 'Georgia',\n",
              "       'Alabama', 'Maryland', 'BAHAMAS', 'Maui', 'Oregon',\n",
              "       'Franklin County, Florida', 'Virgin Islands', 'Maine', 'Bahamas',\n",
              "       'Delaware', 'Guam', 'Cayman Islands', 'Rhode Island',\n",
              "       'Massachusetts', 'Washington', 'Palmyra Atoll', 'Puerto Rico',\n",
              "       'Virginia', 'US Virgin Islands', 'Kentucky', 'New Mexico',\n",
              "       'South Carolina ', 'Johnston Atoll', 'Alaska', 'Missouri', nan,\n",
              "       'North Carolina ', 'North & South Carolina', 'Carolina coast',\n",
              "       'Florida ', 'Connecticut', 'Pennsylvania', 'Illinois',\n",
              "       'Wake Island', ' North Carolina', 'Midway Atoll', 'East coast',\n",
              "       ' New Jersey', 'New York ', 'CUBA'], dtype=object)"
            ]
          },
          "execution_count": 14,
          "metadata": {},
          "output_type": "execute_result"
        }
      ],
      "source": [
        "df_initial['state'].unique()"
      ]
    },
    {
      "cell_type": "code",
      "execution_count": 15,
      "metadata": {
        "colab": {
          "base_uri": "https://localhost:8080/"
        },
        "id": "aDebIJrtTMbK",
        "outputId": "ba3ede79-321a-407d-fb2e-b26ab3f70779"
      },
      "outputs": [
        {
          "data": {
            "text/plain": [
              "array(['hawaii', 'florida', 'california', 'south_carolina',\n",
              "       'north_carolina', 'new_york', 'new_jersey', 'samoa', 'texas',\n",
              "       'louisiana', 'mississippi', 'noirth_carolina', 'georgia',\n",
              "       'alabama', 'maryland', 'bahamas', 'maui', 'oregon',\n",
              "       'virgin_islands', 'maine', 'delaware', 'guam', 'cayman_islands',\n",
              "       'rhode_island', 'massachusetts', 'washington', 'palmyra_atoll',\n",
              "       'puerto_rico', 'virginia', 'us_virgin_islands', 'kentucky',\n",
              "       'new_mexico', 'johnston_atoll', 'alaska', 'missouri', nan,\n",
              "       'north_&_south_carolina', 'carolina_coast', 'connecticut',\n",
              "       'pennsylvania', 'illinois', 'wake_island', 'midway_atoll',\n",
              "       'east_coast', 'cuba'], dtype=object)"
            ]
          },
          "execution_count": 15,
          "metadata": {},
          "output_type": "execute_result"
        }
      ],
      "source": [
        "df_initial['state'] = df_initial['state'].str.strip().str.replace(' ', '_').str.lower()\n",
        "df_initial['state'] = df_initial['state'].replace({'franklin_county,_florida': 'florida'})\n",
        "df_initial['state'].unique()"
      ]
    },
    {
      "cell_type": "code",
      "execution_count": 16,
      "metadata": {
        "colab": {
          "base_uri": "https://localhost:8080/",
          "height": 206
        },
        "id": "hyQJpyWJSRmG",
        "outputId": "48c7e0ae-3d42-4855-a5c6-856f5730cbf2"
      },
      "outputs": [
        {
          "data": {
            "text/html": [
              "<div>\n",
              "<style scoped>\n",
              "    .dataframe tbody tr th:only-of-type {\n",
              "        vertical-align: middle;\n",
              "    }\n",
              "\n",
              "    .dataframe tbody tr th {\n",
              "        vertical-align: top;\n",
              "    }\n",
              "\n",
              "    .dataframe thead th {\n",
              "        text-align: right;\n",
              "    }\n",
              "</style>\n",
              "<table border=\"1\" class=\"dataframe\">\n",
              "  <thead>\n",
              "    <tr style=\"text-align: right;\">\n",
              "      <th></th>\n",
              "      <th>date</th>\n",
              "      <th>year</th>\n",
              "      <th>type</th>\n",
              "      <th>country</th>\n",
              "      <th>state</th>\n",
              "      <th>location</th>\n",
              "      <th>fatal</th>\n",
              "      <th>species</th>\n",
              "    </tr>\n",
              "  </thead>\n",
              "  <tbody>\n",
              "    <tr>\n",
              "      <th>6862</th>\n",
              "      <td>No date, Before 1963</td>\n",
              "      <td>0000</td>\n",
              "      <td>Unprovoked</td>\n",
              "      <td>usa</td>\n",
              "      <td>california</td>\n",
              "      <td>LaJolla, San Diego County</td>\n",
              "      <td>N</td>\n",
              "      <td>Shovelnose guitarfish, adult male</td>\n",
              "    </tr>\n",
              "    <tr>\n",
              "      <th>6865</th>\n",
              "      <td>No date, Before 1902</td>\n",
              "      <td>0000</td>\n",
              "      <td>Unprovoked</td>\n",
              "      <td>usa</td>\n",
              "      <td>florida</td>\n",
              "      <td>Mosquito Inlet (Ponce Inlet), Volusia County</td>\n",
              "      <td>Y</td>\n",
              "      <td>NaN</td>\n",
              "    </tr>\n",
              "    <tr>\n",
              "      <th>6877</th>\n",
              "      <td>Before  19-Jun-1959</td>\n",
              "      <td>0000</td>\n",
              "      <td>Unprovoked</td>\n",
              "      <td>usa</td>\n",
              "      <td>california</td>\n",
              "      <td>Capistrano, Orange County</td>\n",
              "      <td>N</td>\n",
              "      <td>White shark, 1,900-lb</td>\n",
              "    </tr>\n",
              "    <tr>\n",
              "      <th>6881</th>\n",
              "      <td>Before 1958</td>\n",
              "      <td>0000</td>\n",
              "      <td>Unprovoked</td>\n",
              "      <td>usa</td>\n",
              "      <td>florida</td>\n",
              "      <td>Palm Beach, Palm Beach County</td>\n",
              "      <td>N</td>\n",
              "      <td>NaN</td>\n",
              "    </tr>\n",
              "    <tr>\n",
              "      <th>6915</th>\n",
              "      <td>Before 1921</td>\n",
              "      <td>0000</td>\n",
              "      <td>Unprovoked</td>\n",
              "      <td>usa</td>\n",
              "      <td>florida</td>\n",
              "      <td>Gadsden Point, Tampa Bay</td>\n",
              "      <td>N</td>\n",
              "      <td>NaN</td>\n",
              "    </tr>\n",
              "  </tbody>\n",
              "</table>\n",
              "</div>"
            ],
            "text/plain": [
              "                      date  year        type country       state  \\\n",
              "6862  No date, Before 1963  0000  Unprovoked     usa  california   \n",
              "6865  No date, Before 1902  0000  Unprovoked     usa     florida   \n",
              "6877   Before  19-Jun-1959  0000  Unprovoked     usa  california   \n",
              "6881           Before 1958  0000  Unprovoked     usa     florida   \n",
              "6915           Before 1921  0000  Unprovoked     usa     florida   \n",
              "\n",
              "                                          location fatal  \\\n",
              "6862                     LaJolla, San Diego County     N   \n",
              "6865  Mosquito Inlet (Ponce Inlet), Volusia County     Y   \n",
              "6877                     Capistrano, Orange County     N   \n",
              "6881                 Palm Beach, Palm Beach County     N   \n",
              "6915                      Gadsden Point, Tampa Bay     N   \n",
              "\n",
              "                                 species  \n",
              "6862  Shovelnose guitarfish, adult male   \n",
              "6865                                 NaN  \n",
              "6877              White shark, 1,900-lb   \n",
              "6881                                 NaN  \n",
              "6915                                 NaN  "
            ]
          },
          "execution_count": 16,
          "metadata": {},
          "output_type": "execute_result"
        }
      ],
      "source": [
        "df_initial = df_initial[(df_initial['state'] == 'florida') | (df_initial['state'] == 'california')]\n",
        "df_initial.tail()"
      ]
    },
    {
      "cell_type": "code",
      "execution_count": 17,
      "metadata": {
        "colab": {
          "base_uri": "https://localhost:8080/"
        },
        "id": "wvFmDRQYcneo",
        "outputId": "13ecb9d9-d499-426b-fe27-1d434c3f6e5c"
      },
      "outputs": [
        {
          "data": {
            "text/plain": [
              "(1503, 8)"
            ]
          },
          "execution_count": 17,
          "metadata": {},
          "output_type": "execute_result"
        }
      ],
      "source": [
        "df_initial.shape"
      ]
    },
    {
      "cell_type": "code",
      "execution_count": 18,
      "metadata": {
        "colab": {
          "base_uri": "https://localhost:8080/"
        },
        "id": "W4lJSjTDd4Kc",
        "outputId": "98371bd8-1ea4-4d7d-f41f-227c127fa905"
      },
      "outputs": [
        {
          "data": {
            "text/plain": [
              "type\n",
              "Unprovoked             1193\n",
              "Provoked                137\n",
              "Invalid                  98\n",
              "Watercraft               54\n",
              "Sea Disaster             10\n",
              "Questionable              4\n",
              "Unconfirmed               1\n",
              "Under investigation       1\n",
              "Boat                      1\n",
              "Name: count, dtype: int64"
            ]
          },
          "execution_count": 18,
          "metadata": {},
          "output_type": "execute_result"
        }
      ],
      "source": [
        "df_initial['type'].value_counts()"
      ]
    },
    {
      "cell_type": "code",
      "execution_count": 19,
      "metadata": {
        "colab": {
          "base_uri": "https://localhost:8080/",
          "height": 206
        },
        "id": "LnwK25Mfc9BB",
        "outputId": "0e4b11e6-8750-4bc8-f93a-db03617b5146"
      },
      "outputs": [
        {
          "data": {
            "text/html": [
              "<div>\n",
              "<style scoped>\n",
              "    .dataframe tbody tr th:only-of-type {\n",
              "        vertical-align: middle;\n",
              "    }\n",
              "\n",
              "    .dataframe tbody tr th {\n",
              "        vertical-align: top;\n",
              "    }\n",
              "\n",
              "    .dataframe thead th {\n",
              "        text-align: right;\n",
              "    }\n",
              "</style>\n",
              "<table border=\"1\" class=\"dataframe\">\n",
              "  <thead>\n",
              "    <tr style=\"text-align: right;\">\n",
              "      <th></th>\n",
              "      <th>date</th>\n",
              "      <th>year</th>\n",
              "      <th>type</th>\n",
              "      <th>country</th>\n",
              "      <th>state</th>\n",
              "      <th>location</th>\n",
              "      <th>fatal</th>\n",
              "      <th>species</th>\n",
              "    </tr>\n",
              "  </thead>\n",
              "  <tbody>\n",
              "    <tr>\n",
              "      <th>6862</th>\n",
              "      <td>No date, Before 1963</td>\n",
              "      <td>0000</td>\n",
              "      <td>Unprovoked</td>\n",
              "      <td>usa</td>\n",
              "      <td>california</td>\n",
              "      <td>LaJolla, San Diego County</td>\n",
              "      <td>N</td>\n",
              "      <td>Shovelnose guitarfish, adult male</td>\n",
              "    </tr>\n",
              "    <tr>\n",
              "      <th>6865</th>\n",
              "      <td>No date, Before 1902</td>\n",
              "      <td>0000</td>\n",
              "      <td>Unprovoked</td>\n",
              "      <td>usa</td>\n",
              "      <td>florida</td>\n",
              "      <td>Mosquito Inlet (Ponce Inlet), Volusia County</td>\n",
              "      <td>Y</td>\n",
              "      <td>NaN</td>\n",
              "    </tr>\n",
              "    <tr>\n",
              "      <th>6877</th>\n",
              "      <td>Before  19-Jun-1959</td>\n",
              "      <td>0000</td>\n",
              "      <td>Unprovoked</td>\n",
              "      <td>usa</td>\n",
              "      <td>california</td>\n",
              "      <td>Capistrano, Orange County</td>\n",
              "      <td>N</td>\n",
              "      <td>White shark, 1,900-lb</td>\n",
              "    </tr>\n",
              "    <tr>\n",
              "      <th>6881</th>\n",
              "      <td>Before 1958</td>\n",
              "      <td>0000</td>\n",
              "      <td>Unprovoked</td>\n",
              "      <td>usa</td>\n",
              "      <td>florida</td>\n",
              "      <td>Palm Beach, Palm Beach County</td>\n",
              "      <td>N</td>\n",
              "      <td>NaN</td>\n",
              "    </tr>\n",
              "    <tr>\n",
              "      <th>6915</th>\n",
              "      <td>Before 1921</td>\n",
              "      <td>0000</td>\n",
              "      <td>Unprovoked</td>\n",
              "      <td>usa</td>\n",
              "      <td>florida</td>\n",
              "      <td>Gadsden Point, Tampa Bay</td>\n",
              "      <td>N</td>\n",
              "      <td>NaN</td>\n",
              "    </tr>\n",
              "  </tbody>\n",
              "</table>\n",
              "</div>"
            ],
            "text/plain": [
              "                      date  year        type country       state  \\\n",
              "6862  No date, Before 1963  0000  Unprovoked     usa  california   \n",
              "6865  No date, Before 1902  0000  Unprovoked     usa     florida   \n",
              "6877   Before  19-Jun-1959  0000  Unprovoked     usa  california   \n",
              "6881           Before 1958  0000  Unprovoked     usa     florida   \n",
              "6915           Before 1921  0000  Unprovoked     usa     florida   \n",
              "\n",
              "                                          location fatal  \\\n",
              "6862                     LaJolla, San Diego County     N   \n",
              "6865  Mosquito Inlet (Ponce Inlet), Volusia County     Y   \n",
              "6877                     Capistrano, Orange County     N   \n",
              "6881                 Palm Beach, Palm Beach County     N   \n",
              "6915                      Gadsden Point, Tampa Bay     N   \n",
              "\n",
              "                                 species  \n",
              "6862  Shovelnose guitarfish, adult male   \n",
              "6865                                 NaN  \n",
              "6877              White shark, 1,900-lb   \n",
              "6881                                 NaN  \n",
              "6915                                 NaN  "
            ]
          },
          "execution_count": 19,
          "metadata": {},
          "output_type": "execute_result"
        }
      ],
      "source": [
        "df_initial = df_initial[(df_initial['type'] == 'Unprovoked')]\n",
        "df_initial.tail()"
      ]
    },
    {
      "cell_type": "code",
      "execution_count": 20,
      "metadata": {
        "colab": {
          "base_uri": "https://localhost:8080/"
        },
        "id": "o_ZJtw4Hbtf_",
        "outputId": "ebbe3a0e-1f6b-49aa-b58a-f53a8101eeb3"
      },
      "outputs": [
        {
          "data": {
            "text/plain": [
              "(1193, 8)"
            ]
          },
          "execution_count": 20,
          "metadata": {},
          "output_type": "execute_result"
        }
      ],
      "source": [
        "df_initial.shape"
      ]
    },
    {
      "cell_type": "code",
      "execution_count": 21,
      "metadata": {
        "colab": {
          "base_uri": "https://localhost:8080/"
        },
        "id": "Spf7tGb1cvRw",
        "outputId": "eec49213-2947-4579-a509-e28c73824727"
      },
      "outputs": [
        {
          "data": {
            "text/plain": [
              "date          0\n",
              "year          0\n",
              "type          0\n",
              "country       0\n",
              "state         0\n",
              "location      8\n",
              "fatal         2\n",
              "species     573\n",
              "dtype: int64"
            ]
          },
          "execution_count": 21,
          "metadata": {},
          "output_type": "execute_result"
        }
      ],
      "source": [
        "df_initial.isnull().sum()"
      ]
    },
    {
      "cell_type": "code",
      "execution_count": 22,
      "metadata": {
        "colab": {
          "base_uri": "https://localhost:8080/"
        },
        "id": "zS5ChytxVoA4",
        "outputId": "78c98f25-d6cb-4bab-a1a2-30b9747b27a8"
      },
      "outputs": [
        {
          "data": {
            "text/plain": [
              "array(['2023', '2022', '2021', '2020', '2019', '2018', '2017', '2016',\n",
              "       '2015', '2015,00', '2014', '2013', '2012', '2011', '2010', '2009',\n",
              "       '2008', '2007', '2006', '2005', '2004', '2003', '2002', '2001',\n",
              "       '2000', '1999', '1998', '1997', '1996', '1995', '1994', '1993',\n",
              "       '1992', '1991', '1990', '1989', '1988', '1987', '1986', '1985',\n",
              "       '1984', '1983', '1982', '1981', '1980', '1979', '1978', '1977',\n",
              "       '1976', '1975', '1974', '1973', '1972', '1971', '1970', '1969',\n",
              "       '1968', '1967', '1966', '1965', '1964', '1963', '1962', '1961',\n",
              "       '1960', '1959', '1958', '1957', '1956', '1955', '1954', '1953',\n",
              "       '1952', '1951', '1950', '1947', '1944', '1936', '1935', '1934',\n",
              "       '1933', '1931', '1930', '1929', '1928', '1927', '1926', '1925',\n",
              "       '1922', '1920', '1919', '1917', '1915', '1913', '1911', '1909',\n",
              "       '1908', '1907', '1905', '1901', '1899', '1898', '1896', '1894',\n",
              "       '1889', '1887', '1883', '1882', '1879', '1857', '1853', '1851',\n",
              "       '1849', '1845', '1780', '0000'], dtype=object)"
            ]
          },
          "execution_count": 22,
          "metadata": {},
          "output_type": "execute_result"
        }
      ],
      "source": [
        "df_initial['year'].unique()"
      ]
    },
    {
      "cell_type": "code",
      "execution_count": 23,
      "metadata": {
        "colab": {
          "base_uri": "https://localhost:8080/"
        },
        "id": "BKPcYMmRY3_1",
        "outputId": "96f157c8-a195-4939-8ad7-8389e96426ce"
      },
      "outputs": [
        {
          "name": "stdout",
          "output_type": "stream",
          "text": [
            "[2023 2022 2021 2020 2019 2018 2017 2016 2015 2014 2013 2012 2011 2010\n",
            " 2009 2008 2007 2006 2005 2004 2003 2002 2001 2000 1999 1998 1997 1996\n",
            " 1995 1994 1993 1992 1991 1990 1989 1988 1987 1986 1985 1984 1983 1982\n",
            " 1981 1980]\n"
          ]
        }
      ],
      "source": [
        "df_initial['year'] = pd.to_numeric(df_initial['year'], errors='coerce')\n",
        "\n",
        "df_initial = df_initial[df_initial['year'] >= 1980]\n",
        "\n",
        "#It is needed to be after the 1980 filter, so there's no NaN left\n",
        "df_initial['year'] = df_initial['year'].astype(int)\n",
        "\n",
        "print(df_initial['year'].unique())"
      ]
    },
    {
      "cell_type": "code",
      "execution_count": 24,
      "metadata": {
        "colab": {
          "base_uri": "https://localhost:8080/"
        },
        "id": "hJ2xGLhzZq1B",
        "outputId": "f21322a4-cb6d-49d3-f0b6-5e6a6f57d8a3"
      },
      "outputs": [
        {
          "data": {
            "text/plain": [
              "(966, 8)"
            ]
          },
          "execution_count": 24,
          "metadata": {},
          "output_type": "execute_result"
        }
      ],
      "source": [
        "df_initial.shape"
      ]
    },
    {
      "cell_type": "code",
      "execution_count": 25,
      "metadata": {
        "colab": {
          "base_uri": "https://localhost:8080/",
          "height": 206
        },
        "id": "en9uugophISA",
        "outputId": "af6d02c7-7987-42ec-9860-a02415a5517e"
      },
      "outputs": [
        {
          "data": {
            "text/html": [
              "<div>\n",
              "<style scoped>\n",
              "    .dataframe tbody tr th:only-of-type {\n",
              "        vertical-align: middle;\n",
              "    }\n",
              "\n",
              "    .dataframe tbody tr th {\n",
              "        vertical-align: top;\n",
              "    }\n",
              "\n",
              "    .dataframe thead th {\n",
              "        text-align: right;\n",
              "    }\n",
              "</style>\n",
              "<table border=\"1\" class=\"dataframe\">\n",
              "  <thead>\n",
              "    <tr style=\"text-align: right;\">\n",
              "      <th></th>\n",
              "      <th>date</th>\n",
              "      <th>year</th>\n",
              "      <th>type</th>\n",
              "      <th>country</th>\n",
              "      <th>state</th>\n",
              "      <th>location</th>\n",
              "      <th>fatal</th>\n",
              "      <th>species</th>\n",
              "    </tr>\n",
              "  </thead>\n",
              "  <tbody>\n",
              "    <tr>\n",
              "      <th>18</th>\n",
              "      <td>05 Nov-2023</td>\n",
              "      <td>2023</td>\n",
              "      <td>Unprovoked</td>\n",
              "      <td>usa</td>\n",
              "      <td>florida</td>\n",
              "      <td>Juno Beach, Palm Beach County</td>\n",
              "      <td>N</td>\n",
              "      <td>NaN</td>\n",
              "    </tr>\n",
              "    <tr>\n",
              "      <th>28</th>\n",
              "      <td>13 Oct-2023</td>\n",
              "      <td>2023</td>\n",
              "      <td>Unprovoked</td>\n",
              "      <td>usa</td>\n",
              "      <td>california</td>\n",
              "      <td>Linda Mar, Pacific State Beach, San Mateo County</td>\n",
              "      <td>N</td>\n",
              "      <td>NaN</td>\n",
              "    </tr>\n",
              "    <tr>\n",
              "      <th>31</th>\n",
              "      <td>01 Oct-2023</td>\n",
              "      <td>2023</td>\n",
              "      <td>Unprovoked</td>\n",
              "      <td>usa</td>\n",
              "      <td>california</td>\n",
              "      <td>Wildcat Beach, Marin County</td>\n",
              "      <td>Y</td>\n",
              "      <td>NaN</td>\n",
              "    </tr>\n",
              "    <tr>\n",
              "      <th>35</th>\n",
              "      <td>11 Sep-2023</td>\n",
              "      <td>2023</td>\n",
              "      <td>Unprovoked</td>\n",
              "      <td>usa</td>\n",
              "      <td>florida</td>\n",
              "      <td>Satellite Beach, Brevard County</td>\n",
              "      <td>N</td>\n",
              "      <td>NaN</td>\n",
              "    </tr>\n",
              "    <tr>\n",
              "      <th>38</th>\n",
              "      <td>04 Sep 2023</td>\n",
              "      <td>2023</td>\n",
              "      <td>Unprovoked</td>\n",
              "      <td>usa</td>\n",
              "      <td>florida</td>\n",
              "      <td>Ponce Inlet, Volusia County</td>\n",
              "      <td>N</td>\n",
              "      <td>NaN</td>\n",
              "    </tr>\n",
              "  </tbody>\n",
              "</table>\n",
              "</div>"
            ],
            "text/plain": [
              "           date  year        type country       state  \\\n",
              "18  05 Nov-2023  2023  Unprovoked     usa     florida   \n",
              "28  13 Oct-2023  2023  Unprovoked     usa  california   \n",
              "31  01 Oct-2023  2023  Unprovoked     usa  california   \n",
              "35  11 Sep-2023  2023  Unprovoked     usa     florida   \n",
              "38  04 Sep 2023  2023  Unprovoked     usa     florida   \n",
              "\n",
              "                                            location fatal species  \n",
              "18                     Juno Beach, Palm Beach County     N     NaN  \n",
              "28  Linda Mar, Pacific State Beach, San Mateo County     N     NaN  \n",
              "31                       Wildcat Beach, Marin County     Y     NaN  \n",
              "35                   Satellite Beach, Brevard County     N     NaN  \n",
              "38                       Ponce Inlet, Volusia County     N     NaN  "
            ]
          },
          "execution_count": 25,
          "metadata": {},
          "output_type": "execute_result"
        }
      ],
      "source": [
        "df_initial.head()"
      ]
    },
    {
      "cell_type": "code",
      "execution_count": 26,
      "metadata": {
        "colab": {
          "base_uri": "https://localhost:8080/",
          "height": 770
        },
        "id": "QtYiTXj1YwYE",
        "outputId": "c17edb2e-2a23-4f26-af58-c035883fff36"
      },
      "outputs": [
        {
          "data": {
            "text/html": [
              "<div>\n",
              "<style scoped>\n",
              "    .dataframe tbody tr th:only-of-type {\n",
              "        vertical-align: middle;\n",
              "    }\n",
              "\n",
              "    .dataframe tbody tr th {\n",
              "        vertical-align: top;\n",
              "    }\n",
              "\n",
              "    .dataframe thead th {\n",
              "        text-align: right;\n",
              "    }\n",
              "</style>\n",
              "<table border=\"1\" class=\"dataframe\">\n",
              "  <thead>\n",
              "    <tr style=\"text-align: right;\">\n",
              "      <th></th>\n",
              "      <th>date</th>\n",
              "      <th>year</th>\n",
              "      <th>type</th>\n",
              "      <th>country</th>\n",
              "      <th>state</th>\n",
              "      <th>location</th>\n",
              "      <th>fatal</th>\n",
              "      <th>species</th>\n",
              "    </tr>\n",
              "  </thead>\n",
              "  <tbody>\n",
              "    <tr>\n",
              "      <th>31</th>\n",
              "      <td>01 Oct-2023</td>\n",
              "      <td>2023</td>\n",
              "      <td>Unprovoked</td>\n",
              "      <td>usa</td>\n",
              "      <td>california</td>\n",
              "      <td>Wildcat Beach, Marin County</td>\n",
              "      <td>Y</td>\n",
              "      <td>NaN</td>\n",
              "    </tr>\n",
              "    <tr>\n",
              "      <th>191</th>\n",
              "      <td>26-Feb-2022</td>\n",
              "      <td>2022</td>\n",
              "      <td>Unprovoked</td>\n",
              "      <td>usa</td>\n",
              "      <td>california</td>\n",
              "      <td>San Miguel Islandl, Santa Barbara County</td>\n",
              "      <td>Y</td>\n",
              "      <td>White shark</td>\n",
              "    </tr>\n",
              "    <tr>\n",
              "      <th>251</th>\n",
              "      <td>10-Jul-2021</td>\n",
              "      <td>2021</td>\n",
              "      <td>Unprovoked</td>\n",
              "      <td>usa</td>\n",
              "      <td>florida</td>\n",
              "      <td>46 miles off Mayport, Duval County</td>\n",
              "      <td>Y</td>\n",
              "      <td>NaN</td>\n",
              "    </tr>\n",
              "    <tr>\n",
              "      <th>391</th>\n",
              "      <td>09-May-2020</td>\n",
              "      <td>2020</td>\n",
              "      <td>Unprovoked</td>\n",
              "      <td>usa</td>\n",
              "      <td>california</td>\n",
              "      <td>Sand Dollar Beach, Santa Cruz County</td>\n",
              "      <td>Y</td>\n",
              "      <td>White shark</td>\n",
              "    </tr>\n",
              "    <tr>\n",
              "      <th>1332</th>\n",
              "      <td>23-Oct-2012</td>\n",
              "      <td>2012</td>\n",
              "      <td>Unprovoked</td>\n",
              "      <td>usa</td>\n",
              "      <td>california</td>\n",
              "      <td>Surf Beach, Lompoc, Santa Barbara County</td>\n",
              "      <td>Y</td>\n",
              "      <td>White shark, 15' to 16'</td>\n",
              "    </tr>\n",
              "    <tr>\n",
              "      <th>1582</th>\n",
              "      <td>22-Oct-2010</td>\n",
              "      <td>2010</td>\n",
              "      <td>Unprovoked</td>\n",
              "      <td>usa</td>\n",
              "      <td>california</td>\n",
              "      <td>Surf Beach, Vandenberg AFB, Santa Barbara County</td>\n",
              "      <td>Y</td>\n",
              "      <td>White shark, 14' to 18'</td>\n",
              "    </tr>\n",
              "    <tr>\n",
              "      <th>1649</th>\n",
              "      <td>03-Feb-2010</td>\n",
              "      <td>2010</td>\n",
              "      <td>Unprovoked</td>\n",
              "      <td>usa</td>\n",
              "      <td>florida</td>\n",
              "      <td>Stuart, Martin County</td>\n",
              "      <td>Y</td>\n",
              "      <td>NaN</td>\n",
              "    </tr>\n",
              "    <tr>\n",
              "      <th>1872</th>\n",
              "      <td>25-Apr-2008</td>\n",
              "      <td>2008</td>\n",
              "      <td>Unprovoked</td>\n",
              "      <td>usa</td>\n",
              "      <td>california</td>\n",
              "      <td>Solana Beach, San Diego County</td>\n",
              "      <td>Y</td>\n",
              "      <td>White shark, 12' to 15'</td>\n",
              "    </tr>\n",
              "    <tr>\n",
              "      <th>2179</th>\n",
              "      <td>25-Jun-2005</td>\n",
              "      <td>2005</td>\n",
              "      <td>Unprovoked</td>\n",
              "      <td>usa</td>\n",
              "      <td>florida</td>\n",
              "      <td>Destin, Walton County</td>\n",
              "      <td>Y</td>\n",
              "      <td>1.8 m [6'] bull shark</td>\n",
              "    </tr>\n",
              "    <tr>\n",
              "      <th>2250</th>\n",
              "      <td>15-Aug-2004</td>\n",
              "      <td>2004</td>\n",
              "      <td>Unprovoked</td>\n",
              "      <td>usa</td>\n",
              "      <td>california</td>\n",
              "      <td>Kibesillah, Mendocino County</td>\n",
              "      <td>Y</td>\n",
              "      <td>4.9 m to 5.5 m [16' to 18'] white shark</td>\n",
              "    </tr>\n",
              "    <tr>\n",
              "      <th>2355</th>\n",
              "      <td>19-Aug-2003</td>\n",
              "      <td>2003</td>\n",
              "      <td>Unprovoked</td>\n",
              "      <td>usa</td>\n",
              "      <td>california</td>\n",
              "      <td>Avila Beach, San Luis Obispo County</td>\n",
              "      <td>Y</td>\n",
              "      <td>4.5 m to 5.5 m [15' to 18'] white shark</td>\n",
              "    </tr>\n",
              "    <tr>\n",
              "      <th>2624</th>\n",
              "      <td>30-Aug-2000</td>\n",
              "      <td>2000</td>\n",
              "      <td>Unprovoked</td>\n",
              "      <td>usa</td>\n",
              "      <td>florida</td>\n",
              "      <td>Boca Ciega Bay, Tampa, Pinellas County</td>\n",
              "      <td>Y</td>\n",
              "      <td>Thought to involve a 2.7 m [9'], 400-lb bull s...</td>\n",
              "    </tr>\n",
              "    <tr>\n",
              "      <th>2755</th>\n",
              "      <td>21-Nov-1998</td>\n",
              "      <td>1998</td>\n",
              "      <td>Unprovoked</td>\n",
              "      <td>usa</td>\n",
              "      <td>florida</td>\n",
              "      <td>Ocean Beach, Jaycee Park, Vero Beach, Indian R...</td>\n",
              "      <td>Y</td>\n",
              "      <td>Tiger shark</td>\n",
              "    </tr>\n",
              "    <tr>\n",
              "      <th>2948</th>\n",
              "      <td>13-Sep-1995</td>\n",
              "      <td>1995</td>\n",
              "      <td>Unprovoked</td>\n",
              "      <td>usa</td>\n",
              "      <td>florida</td>\n",
              "      <td>Alligator Reef, off Islamorada, Monroe County</td>\n",
              "      <td>Y</td>\n",
              "      <td>3 m to 3.7 m [10' to 12'] bull shark</td>\n",
              "    </tr>\n",
              "    <tr>\n",
              "      <th>3017</th>\n",
              "      <td>09-Dec-1994</td>\n",
              "      <td>1994</td>\n",
              "      <td>Unprovoked</td>\n",
              "      <td>usa</td>\n",
              "      <td>california</td>\n",
              "      <td>San Miguel Island, Santa Barbara County</td>\n",
              "      <td>Y</td>\n",
              "      <td>5 m to 5.5 m [16.5' to 18'] white shark</td>\n",
              "    </tr>\n",
              "    <tr>\n",
              "      <th>3304</th>\n",
              "      <td>26-Jan-1989</td>\n",
              "      <td>1989</td>\n",
              "      <td>Unprovoked</td>\n",
              "      <td>usa</td>\n",
              "      <td>california</td>\n",
              "      <td>Latigo Point / Paradise Cove,west of Malibu, L...</td>\n",
              "      <td>Y</td>\n",
              "      <td>5 m [16.5'] white shark</td>\n",
              "    </tr>\n",
              "    <tr>\n",
              "      <th>3325</th>\n",
              "      <td>13-Sep-1988</td>\n",
              "      <td>1988</td>\n",
              "      <td>Unprovoked</td>\n",
              "      <td>usa</td>\n",
              "      <td>florida</td>\n",
              "      <td>Shell Island Panama City Beach, Bay County</td>\n",
              "      <td>Y</td>\n",
              "      <td>3 m [10'] bull shark</td>\n",
              "    </tr>\n",
              "    <tr>\n",
              "      <th>3493</th>\n",
              "      <td>15-Sep-1984</td>\n",
              "      <td>1984</td>\n",
              "      <td>Unprovoked</td>\n",
              "      <td>usa</td>\n",
              "      <td>california</td>\n",
              "      <td>Pigeon Point, San Mateo County</td>\n",
              "      <td>Y</td>\n",
              "      <td>4.5 m to 5 m white shark</td>\n",
              "    </tr>\n",
              "    <tr>\n",
              "      <th>3603</th>\n",
              "      <td>13-Feb-1982</td>\n",
              "      <td>1982</td>\n",
              "      <td>Unprovoked</td>\n",
              "      <td>usa</td>\n",
              "      <td>florida</td>\n",
              "      <td>Palm Beach, Palm Beach County</td>\n",
              "      <td>Y</td>\n",
              "      <td>NaN</td>\n",
              "    </tr>\n",
              "    <tr>\n",
              "      <th>3605</th>\n",
              "      <td>07-Feb-1982</td>\n",
              "      <td>1982</td>\n",
              "      <td>Unprovoked</td>\n",
              "      <td>usa</td>\n",
              "      <td>florida</td>\n",
              "      <td>Elliot Key</td>\n",
              "      <td>Y</td>\n",
              "      <td>NaN</td>\n",
              "    </tr>\n",
              "    <tr>\n",
              "      <th>3610</th>\n",
              "      <td>19-Dec-1981</td>\n",
              "      <td>1981</td>\n",
              "      <td>Unprovoked</td>\n",
              "      <td>usa</td>\n",
              "      <td>california</td>\n",
              "      <td>South Moss Beach, Spanish Bay, Monterey Peninsula</td>\n",
              "      <td>Y</td>\n",
              "      <td>7 m [23'] white shark</td>\n",
              "    </tr>\n",
              "    <tr>\n",
              "      <th>3622</th>\n",
              "      <td>15-Sep-1981</td>\n",
              "      <td>1981</td>\n",
              "      <td>Unprovoked</td>\n",
              "      <td>usa</td>\n",
              "      <td>florida</td>\n",
              "      <td>Tampa Bay, Manatee County</td>\n",
              "      <td>Y</td>\n",
              "      <td>Said to involve a tiger shark or a hammerhead ...</td>\n",
              "    </tr>\n",
              "    <tr>\n",
              "      <th>3629</th>\n",
              "      <td>10-Aug-1981</td>\n",
              "      <td>1981</td>\n",
              "      <td>Unprovoked</td>\n",
              "      <td>usa</td>\n",
              "      <td>florida</td>\n",
              "      <td>Ormond Beach / Daytona Beach, Volusia County</td>\n",
              "      <td>Y</td>\n",
              "      <td>NaN</td>\n",
              "    </tr>\n",
              "  </tbody>\n",
              "</table>\n",
              "</div>"
            ],
            "text/plain": [
              "             date  year        type country       state  \\\n",
              "31    01 Oct-2023  2023  Unprovoked     usa  california   \n",
              "191   26-Feb-2022  2022  Unprovoked     usa  california   \n",
              "251   10-Jul-2021  2021  Unprovoked     usa     florida   \n",
              "391   09-May-2020  2020  Unprovoked     usa  california   \n",
              "1332  23-Oct-2012  2012  Unprovoked     usa  california   \n",
              "1582  22-Oct-2010  2010  Unprovoked     usa  california   \n",
              "1649  03-Feb-2010  2010  Unprovoked     usa     florida   \n",
              "1872  25-Apr-2008  2008  Unprovoked     usa  california   \n",
              "2179  25-Jun-2005  2005  Unprovoked     usa     florida   \n",
              "2250  15-Aug-2004  2004  Unprovoked     usa  california   \n",
              "2355  19-Aug-2003  2003  Unprovoked     usa  california   \n",
              "2624  30-Aug-2000  2000  Unprovoked     usa     florida   \n",
              "2755  21-Nov-1998  1998  Unprovoked     usa     florida   \n",
              "2948  13-Sep-1995  1995  Unprovoked     usa     florida   \n",
              "3017  09-Dec-1994  1994  Unprovoked     usa  california   \n",
              "3304  26-Jan-1989  1989  Unprovoked     usa  california   \n",
              "3325  13-Sep-1988  1988  Unprovoked     usa     florida   \n",
              "3493  15-Sep-1984  1984  Unprovoked     usa  california   \n",
              "3603  13-Feb-1982  1982  Unprovoked     usa     florida   \n",
              "3605  07-Feb-1982  1982  Unprovoked     usa     florida   \n",
              "3610  19-Dec-1981  1981  Unprovoked     usa  california   \n",
              "3622  15-Sep-1981  1981  Unprovoked     usa     florida   \n",
              "3629  10-Aug-1981  1981  Unprovoked     usa     florida   \n",
              "\n",
              "                                               location fatal  \\\n",
              "31                          Wildcat Beach, Marin County     Y   \n",
              "191            San Miguel Islandl, Santa Barbara County     Y   \n",
              "251                  46 miles off Mayport, Duval County     Y   \n",
              "391                Sand Dollar Beach, Santa Cruz County     Y   \n",
              "1332           Surf Beach, Lompoc, Santa Barbara County     Y   \n",
              "1582   Surf Beach, Vandenberg AFB, Santa Barbara County     Y   \n",
              "1649                              Stuart, Martin County     Y   \n",
              "1872                     Solana Beach, San Diego County     Y   \n",
              "2179                              Destin, Walton County     Y   \n",
              "2250                       Kibesillah, Mendocino County     Y   \n",
              "2355                Avila Beach, San Luis Obispo County     Y   \n",
              "2624             Boca Ciega Bay, Tampa, Pinellas County     Y   \n",
              "2755  Ocean Beach, Jaycee Park, Vero Beach, Indian R...     Y   \n",
              "2948      Alligator Reef, off Islamorada, Monroe County     Y   \n",
              "3017            San Miguel Island, Santa Barbara County     Y   \n",
              "3304  Latigo Point / Paradise Cove,west of Malibu, L...     Y   \n",
              "3325         Shell Island Panama City Beach, Bay County     Y   \n",
              "3493                     Pigeon Point, San Mateo County     Y   \n",
              "3603                      Palm Beach, Palm Beach County     Y   \n",
              "3605                                         Elliot Key     Y   \n",
              "3610  South Moss Beach, Spanish Bay, Monterey Peninsula     Y   \n",
              "3622                          Tampa Bay, Manatee County     Y   \n",
              "3629       Ormond Beach / Daytona Beach, Volusia County     Y   \n",
              "\n",
              "                                                species  \n",
              "31                                                  NaN  \n",
              "191                                         White shark  \n",
              "251                                                 NaN  \n",
              "391                                         White shark  \n",
              "1332                           White shark, 15' to 16'   \n",
              "1582                           White shark, 14' to 18'   \n",
              "1649                                                NaN  \n",
              "1872                            White shark, 12' to 15'  \n",
              "2179                              1.8 m [6'] bull shark  \n",
              "2250            4.9 m to 5.5 m [16' to 18'] white shark  \n",
              "2355            4.5 m to 5.5 m [15' to 18'] white shark  \n",
              "2624  Thought to involve a 2.7 m [9'], 400-lb bull s...  \n",
              "2755                                        Tiger shark  \n",
              "2948               3 m to 3.7 m [10' to 12'] bull shark  \n",
              "3017            5 m to 5.5 m [16.5' to 18'] white shark  \n",
              "3304                            5 m [16.5'] white shark  \n",
              "3325                               3 m [10'] bull shark  \n",
              "3493                           4.5 m to 5 m white shark  \n",
              "3603                                                NaN  \n",
              "3605                                                NaN  \n",
              "3610                              7 m [23'] white shark  \n",
              "3622  Said to involve a tiger shark or a hammerhead ...  \n",
              "3629                                                NaN  "
            ]
          },
          "execution_count": 26,
          "metadata": {},
          "output_type": "execute_result"
        }
      ],
      "source": [
        "#Added after the presentation to answwer frederico questions\n",
        "test = df_initial[df_initial['fatal'] == 'Y']\n",
        "test"
      ]
    },
    {
      "cell_type": "code",
      "execution_count": 27,
      "metadata": {
        "colab": {
          "base_uri": "https://localhost:8080/"
        },
        "id": "h2fqAIGjY-j6",
        "outputId": "c1e28157-7928-4516-c5a7-ab4d15dc9a4f"
      },
      "outputs": [
        {
          "data": {
            "text/plain": [
              "state\n",
              "california    12\n",
              "florida       11\n",
              "Name: count, dtype: int64"
            ]
          },
          "execution_count": 27,
          "metadata": {},
          "output_type": "execute_result"
        }
      ],
      "source": [
        "#Added after the presentation to answer frederico questions\n",
        "test['state'].value_counts()"
      ]
    },
    {
      "cell_type": "code",
      "execution_count": 28,
      "metadata": {
        "colab": {
          "base_uri": "https://localhost:8080/"
        },
        "id": "9gqboD9Qkd4w",
        "outputId": "c8a277a0-f577-4ee8-da26-f688ed025f0b"
      },
      "outputs": [
        {
          "name": "stdout",
          "output_type": "stream",
          "text": [
            "                date  year        type country    state  \\\n",
            "38       04 Sep 2023  2023  Unprovoked     usa  florida   \n",
            "39       04 Sep 2023  2023  Unprovoked     usa  florida   \n",
            "47       31 Jul-2023  2023  Unprovoked     usa  florida   \n",
            "142      25-Jul-2022  2022  Unprovoked     usa  florida   \n",
            "147      16-Jul-2022  2022  Unprovoked     usa  florida   \n",
            "...              ...   ...         ...     ...      ...   \n",
            "3587     01-Jul-1982  1982  Unprovoked     usa  florida   \n",
            "3592     25-Jun-1982  1982  Unprovoked     usa  florida   \n",
            "3625     29-Aug-1981  1981  Unprovoked     usa  florida   \n",
            "3629     10-Aug-1981  1981  Unprovoked     usa  florida   \n",
            "3675  Early Jul-1980  1980  Unprovoked     usa  florida   \n",
            "\n",
            "                                          location fatal          species  \n",
            "38                     Ponce Inlet, Volusia County     N              NaN  \n",
            "39                     Ponce Inlet, Volusia County     N              NaN  \n",
            "47                New Smyrna Beach, Volusia County     N              NaN  \n",
            "142                  Daytona Beach, Volusia County     N  Blacktip shark?  \n",
            "147           Daytona Beach Shores, Volusia County     N  \"A small shark\"  \n",
            "...                                            ...   ...              ...  \n",
            "3587                 Daytona Beach, Volusia County     N              NaN  \n",
            "3592  Ormond Beach / Daytona Beach, Volusia County     N              NaN  \n",
            "3625              New Smyrna Beach, Volusia County     N         6' shark  \n",
            "3629  Ormond Beach / Daytona Beach, Volusia County     Y              NaN  \n",
            "3675              New Smyrna Beach, Volusia County     N              NaN  \n",
            "\n",
            "[309 rows x 8 columns]\n"
          ]
        }
      ],
      "source": [
        "pattern = 'volu.*county'\n",
        "\n",
        "volusia_county_df = df_initial[df_initial['location'].str.contains(pattern, case=False, na=False)]\n",
        "\n",
        "print(volusia_county_df)"
      ]
    },
    {
      "cell_type": "code",
      "execution_count": 29,
      "metadata": {
        "colab": {
          "base_uri": "https://localhost:8080/"
        },
        "id": "prh9Le9Vks6W",
        "outputId": "ace8daf0-0a9c-411f-8216-75e6ba34886c"
      },
      "outputs": [
        {
          "data": {
            "text/plain": [
              "38                       Ponce Inlet, Volusia County\n",
              "39                       Ponce Inlet, Volusia County\n",
              "47                  New Smyrna Beach, Volusia County\n",
              "142                    Daytona Beach, Volusia County\n",
              "147             Daytona Beach Shores, Volusia County\n",
              "                            ...                     \n",
              "3587                   Daytona Beach, Volusia County\n",
              "3592    Ormond Beach / Daytona Beach, Volusia County\n",
              "3625                New Smyrna Beach, Volusia County\n",
              "3629    Ormond Beach / Daytona Beach, Volusia County\n",
              "3675                New Smyrna Beach, Volusia County\n",
              "Name: location, Length: 309, dtype: object"
            ]
          },
          "execution_count": 29,
          "metadata": {},
          "output_type": "execute_result"
        }
      ],
      "source": [
        "volusia_county_df['location']"
      ]
    },
    {
      "cell_type": "code",
      "execution_count": 30,
      "metadata": {
        "colab": {
          "base_uri": "https://localhost:8080/"
        },
        "id": "8bTG5ynNgkpz",
        "outputId": "2cc707f5-c7b5-41c5-f863-8a67d4b5d73d"
      },
      "outputs": [
        {
          "data": {
            "text/plain": [
              "date          0\n",
              "year          0\n",
              "type          0\n",
              "country       0\n",
              "state         0\n",
              "location      6\n",
              "fatal         1\n",
              "species     458\n",
              "dtype: int64"
            ]
          },
          "execution_count": 30,
          "metadata": {},
          "output_type": "execute_result"
        }
      ],
      "source": [
        "df_initial.isnull().sum()"
      ]
    },
    {
      "cell_type": "code",
      "execution_count": 31,
      "metadata": {
        "colab": {
          "base_uri": "https://localhost:8080/"
        },
        "id": "bFXhs50SgqnM",
        "outputId": "ba38d540-3a32-4f9d-abb6-94248b59e0ed"
      },
      "outputs": [
        {
          "data": {
            "text/plain": [
              "fatal\n",
              "N          937\n",
              "Y           23\n",
              "UNKNOWN      4\n",
              "Nq           1\n",
              "Name: count, dtype: int64"
            ]
          },
          "execution_count": 31,
          "metadata": {},
          "output_type": "execute_result"
        }
      ],
      "source": [
        "df_initial['fatal'].value_counts()"
      ]
    },
    {
      "cell_type": "code",
      "execution_count": 32,
      "metadata": {
        "colab": {
          "base_uri": "https://localhost:8080/"
        },
        "id": "TN_h-2t0hFhQ",
        "outputId": "9f0c9fa2-e167-4234-c33e-355cb8f67179"
      },
      "outputs": [
        {
          "data": {
            "text/plain": [
              "fatal\n",
              "N    937\n",
              "Y     23\n",
              "Name: count, dtype: int64"
            ]
          },
          "execution_count": 32,
          "metadata": {},
          "output_type": "execute_result"
        }
      ],
      "source": [
        "df_initial = df_initial[df_initial['fatal'].isin(['N', 'Y'])]\n",
        "\n",
        "df_initial['fatal'].value_counts()"
      ]
    },
    {
      "cell_type": "code",
      "execution_count": 33,
      "metadata": {
        "colab": {
          "base_uri": "https://localhost:8080/",
          "height": 206
        },
        "id": "NOGFtlSciHth",
        "outputId": "06e2d27e-5205-49a7-f13f-e43c1fb20742"
      },
      "outputs": [
        {
          "data": {
            "text/html": [
              "<div>\n",
              "<style scoped>\n",
              "    .dataframe tbody tr th:only-of-type {\n",
              "        vertical-align: middle;\n",
              "    }\n",
              "\n",
              "    .dataframe tbody tr th {\n",
              "        vertical-align: top;\n",
              "    }\n",
              "\n",
              "    .dataframe thead th {\n",
              "        text-align: right;\n",
              "    }\n",
              "</style>\n",
              "<table border=\"1\" class=\"dataframe\">\n",
              "  <thead>\n",
              "    <tr style=\"text-align: right;\">\n",
              "      <th></th>\n",
              "      <th>date</th>\n",
              "      <th>year</th>\n",
              "      <th>type</th>\n",
              "      <th>country</th>\n",
              "      <th>state</th>\n",
              "      <th>location</th>\n",
              "      <th>fatal</th>\n",
              "      <th>species</th>\n",
              "    </tr>\n",
              "  </thead>\n",
              "  <tbody>\n",
              "    <tr>\n",
              "      <th>18</th>\n",
              "      <td>05 Nov-2023</td>\n",
              "      <td>2023</td>\n",
              "      <td>Unprovoked</td>\n",
              "      <td>usa</td>\n",
              "      <td>florida</td>\n",
              "      <td>Juno Beach, Palm Beach County</td>\n",
              "      <td>N</td>\n",
              "      <td>NaN</td>\n",
              "    </tr>\n",
              "    <tr>\n",
              "      <th>28</th>\n",
              "      <td>13 Oct-2023</td>\n",
              "      <td>2023</td>\n",
              "      <td>Unprovoked</td>\n",
              "      <td>usa</td>\n",
              "      <td>california</td>\n",
              "      <td>Linda Mar, Pacific State Beach, San Mateo County</td>\n",
              "      <td>N</td>\n",
              "      <td>NaN</td>\n",
              "    </tr>\n",
              "    <tr>\n",
              "      <th>31</th>\n",
              "      <td>01 Oct-2023</td>\n",
              "      <td>2023</td>\n",
              "      <td>Unprovoked</td>\n",
              "      <td>usa</td>\n",
              "      <td>california</td>\n",
              "      <td>Wildcat Beach, Marin County</td>\n",
              "      <td>Y</td>\n",
              "      <td>NaN</td>\n",
              "    </tr>\n",
              "    <tr>\n",
              "      <th>35</th>\n",
              "      <td>11 Sep-2023</td>\n",
              "      <td>2023</td>\n",
              "      <td>Unprovoked</td>\n",
              "      <td>usa</td>\n",
              "      <td>florida</td>\n",
              "      <td>Satellite Beach, Brevard County</td>\n",
              "      <td>N</td>\n",
              "      <td>NaN</td>\n",
              "    </tr>\n",
              "    <tr>\n",
              "      <th>38</th>\n",
              "      <td>04 Sep 2023</td>\n",
              "      <td>2023</td>\n",
              "      <td>Unprovoked</td>\n",
              "      <td>usa</td>\n",
              "      <td>florida</td>\n",
              "      <td>Ponce Inlet, Volusia County</td>\n",
              "      <td>N</td>\n",
              "      <td>NaN</td>\n",
              "    </tr>\n",
              "  </tbody>\n",
              "</table>\n",
              "</div>"
            ],
            "text/plain": [
              "           date  year        type country       state  \\\n",
              "18  05 Nov-2023  2023  Unprovoked     usa     florida   \n",
              "28  13 Oct-2023  2023  Unprovoked     usa  california   \n",
              "31  01 Oct-2023  2023  Unprovoked     usa  california   \n",
              "35  11 Sep-2023  2023  Unprovoked     usa     florida   \n",
              "38  04 Sep 2023  2023  Unprovoked     usa     florida   \n",
              "\n",
              "                                            location fatal species  \n",
              "18                     Juno Beach, Palm Beach County     N     NaN  \n",
              "28  Linda Mar, Pacific State Beach, San Mateo County     N     NaN  \n",
              "31                       Wildcat Beach, Marin County     Y     NaN  \n",
              "35                   Satellite Beach, Brevard County     N     NaN  \n",
              "38                       Ponce Inlet, Volusia County     N     NaN  "
            ]
          },
          "execution_count": 33,
          "metadata": {},
          "output_type": "execute_result"
        }
      ],
      "source": [
        "df_initial.head()"
      ]
    },
    {
      "cell_type": "code",
      "execution_count": 34,
      "metadata": {
        "colab": {
          "base_uri": "https://localhost:8080/"
        },
        "id": "Uz4yVHAia1es",
        "outputId": "46dd6bd3-a249-4e24-82e3-3699912c8e72"
      },
      "outputs": [
        {
          "data": {
            "text/plain": [
              "260"
            ]
          },
          "execution_count": 34,
          "metadata": {},
          "output_type": "execute_result"
        }
      ],
      "source": [
        "df_initial['species'].nunique()"
      ]
    },
    {
      "cell_type": "code",
      "execution_count": 35,
      "metadata": {
        "colab": {
          "base_uri": "https://localhost:8080/"
        },
        "id": "If2yH1lRL9F9",
        "outputId": "0871451b-a1e2-4d9b-bf1a-4a4066cf0255"
      },
      "outputs": [
        {
          "data": {
            "text/plain": [
              "date          0\n",
              "year          0\n",
              "type          0\n",
              "country       0\n",
              "state         0\n",
              "location      5\n",
              "fatal         0\n",
              "species     453\n",
              "dtype: int64"
            ]
          },
          "execution_count": 35,
          "metadata": {},
          "output_type": "execute_result"
        }
      ],
      "source": [
        "df_initial.isnull().sum()"
      ]
    },
    {
      "cell_type": "code",
      "execution_count": 36,
      "metadata": {
        "colab": {
          "base_uri": "https://localhost:8080/",
          "height": 206
        },
        "id": "Uzqu0XKFRXnB",
        "outputId": "e3e3d973-9a74-4d17-9772-22c4b78e2748"
      },
      "outputs": [
        {
          "data": {
            "text/html": [
              "<div>\n",
              "<style scoped>\n",
              "    .dataframe tbody tr th:only-of-type {\n",
              "        vertical-align: middle;\n",
              "    }\n",
              "\n",
              "    .dataframe tbody tr th {\n",
              "        vertical-align: top;\n",
              "    }\n",
              "\n",
              "    .dataframe thead th {\n",
              "        text-align: right;\n",
              "    }\n",
              "</style>\n",
              "<table border=\"1\" class=\"dataframe\">\n",
              "  <thead>\n",
              "    <tr style=\"text-align: right;\">\n",
              "      <th></th>\n",
              "      <th>date</th>\n",
              "      <th>year</th>\n",
              "      <th>type</th>\n",
              "      <th>country</th>\n",
              "      <th>state</th>\n",
              "      <th>location</th>\n",
              "      <th>fatal</th>\n",
              "      <th>species</th>\n",
              "    </tr>\n",
              "  </thead>\n",
              "  <tbody>\n",
              "    <tr>\n",
              "      <th>116</th>\n",
              "      <td>04-Nov-2022</td>\n",
              "      <td>2022</td>\n",
              "      <td>Unprovoked</td>\n",
              "      <td>usa</td>\n",
              "      <td>california</td>\n",
              "      <td>Del Mar Beach, San Diego County</td>\n",
              "      <td>N</td>\n",
              "      <td>Juvenile white shark</td>\n",
              "    </tr>\n",
              "    <tr>\n",
              "      <th>128</th>\n",
              "      <td>02-Oct-2022</td>\n",
              "      <td>2022</td>\n",
              "      <td>Unprovoked</td>\n",
              "      <td>usa</td>\n",
              "      <td>california</td>\n",
              "      <td>Centerville Beach</td>\n",
              "      <td>N</td>\n",
              "      <td>White shark, 13'</td>\n",
              "    </tr>\n",
              "    <tr>\n",
              "      <th>165</th>\n",
              "      <td>22-Jun-2022</td>\n",
              "      <td>2022</td>\n",
              "      <td>Unprovoked</td>\n",
              "      <td>usa</td>\n",
              "      <td>california</td>\n",
              "      <td>Pacific Grove, Monterey County</td>\n",
              "      <td>N</td>\n",
              "      <td>White shark, 16'</td>\n",
              "    </tr>\n",
              "    <tr>\n",
              "      <th>191</th>\n",
              "      <td>26-Feb-2022</td>\n",
              "      <td>2022</td>\n",
              "      <td>Unprovoked</td>\n",
              "      <td>usa</td>\n",
              "      <td>california</td>\n",
              "      <td>San Miguel Islandl, Santa Barbara County</td>\n",
              "      <td>Y</td>\n",
              "      <td>White shark</td>\n",
              "    </tr>\n",
              "    <tr>\n",
              "      <th>260</th>\n",
              "      <td>26-Jun-2021</td>\n",
              "      <td>2021</td>\n",
              "      <td>Unprovoked</td>\n",
              "      <td>usa</td>\n",
              "      <td>california</td>\n",
              "      <td>Gray Whale Beach Cove State Beach, San Mateo C...</td>\n",
              "      <td>N</td>\n",
              "      <td>White shark, 6' to 8'</td>\n",
              "    </tr>\n",
              "  </tbody>\n",
              "</table>\n",
              "</div>"
            ],
            "text/plain": [
              "            date  year        type country       state  \\\n",
              "116  04-Nov-2022  2022  Unprovoked     usa  california   \n",
              "128  02-Oct-2022  2022  Unprovoked     usa  california   \n",
              "165  22-Jun-2022  2022  Unprovoked     usa  california   \n",
              "191  26-Feb-2022  2022  Unprovoked     usa  california   \n",
              "260  26-Jun-2021  2021  Unprovoked     usa  california   \n",
              "\n",
              "                                              location fatal  \\\n",
              "116                    Del Mar Beach, San Diego County     N   \n",
              "128                                  Centerville Beach     N   \n",
              "165                     Pacific Grove, Monterey County     N   \n",
              "191           San Miguel Islandl, Santa Barbara County     Y   \n",
              "260  Gray Whale Beach Cove State Beach, San Mateo C...     N   \n",
              "\n",
              "                   species  \n",
              "116   Juvenile white shark  \n",
              "128       White shark, 13'  \n",
              "165       White shark, 16'  \n",
              "191            White shark  \n",
              "260  White shark, 6' to 8'  "
            ]
          },
          "execution_count": 36,
          "metadata": {},
          "output_type": "execute_result"
        }
      ],
      "source": [
        "pattern = 'white.*shark'\n",
        "\n",
        "white_sharks_df = df_initial[df_initial['species'].str.contains(pattern, case=False, na=False)]\n",
        "\n",
        "white_sharks_df.head()"
      ]
    },
    {
      "cell_type": "code",
      "execution_count": 37,
      "metadata": {
        "colab": {
          "base_uri": "https://localhost:8080/"
        },
        "id": "1iP98YXhYPhy",
        "outputId": "94cfb654-1334-4261-c215-8e15cc9f7ef4"
      },
      "outputs": [
        {
          "data": {
            "text/plain": [
              "fatal\n",
              "N    937\n",
              "Y     23\n",
              "Name: count, dtype: int64"
            ]
          },
          "execution_count": 37,
          "metadata": {},
          "output_type": "execute_result"
        }
      ],
      "source": [
        "df_initial['fatal'].value_counts()"
      ]
    },
    {
      "cell_type": "code",
      "execution_count": 38,
      "metadata": {
        "colab": {
          "base_uri": "https://localhost:8080/"
        },
        "id": "Nf-fcG45RtcE",
        "outputId": "42b90e58-0e99-4679-abc0-def0b26760b1"
      },
      "outputs": [
        {
          "data": {
            "text/plain": [
              "(93, 8)"
            ]
          },
          "execution_count": 38,
          "metadata": {},
          "output_type": "execute_result"
        }
      ],
      "source": [
        "white_sharks_df.shape"
      ]
    },
    {
      "cell_type": "code",
      "execution_count": 39,
      "metadata": {
        "colab": {
          "base_uri": "https://localhost:8080/",
          "height": 472
        },
        "id": "r49S7g3vsc1a",
        "outputId": "e1df7f11-7653-419c-83da-31821cb52f17"
      },
      "outputs": [
        {
          "data": {
            "image/png": "[encoded data removed]",
            "text/plain": [
              "<Figure size 640x480 with 1 Axes>"
            ]
          },
          "metadata": {},
          "output_type": "display_data"
        }
      ],
      "source": [
        "filtered_df = df_initial[df_initial['state'].isin(['florida', 'california'])]\n",
        "\n",
        "grouped_data = filtered_df.groupby(['year', 'state']).size().unstack(fill_value=0)\n",
        "\n",
        "ax = grouped_data.plot(kind='bar', stacked=True)\n",
        "plt.title('Number of Shark Attacks by Year in Florida and California')\n",
        "plt.xlabel('Year')\n",
        "plt.ylabel('Number of Attacks')\n",
        "\n",
        "handles, labels = ax.get_legend_handles_labels()\n",
        "capitalized_labels = [label.capitalize() for label in labels]\n",
        "ax.legend(handles, capitalized_labels)\n",
        "\n",
        "decade_starts = [year for year in grouped_data.index if year % 10 == 0]\n",
        "ax.set_xticks([grouped_data.index.get_loc(year) for year in decade_starts])\n",
        "ax.set_xticklabels([str(int(year)) for year in decade_starts], rotation='horizontal')\n",
        "\n",
        "plt.show()\n"
      ]
    },
    {
      "cell_type": "code",
      "execution_count": 40,
      "metadata": {
        "colab": {
          "base_uri": "https://localhost:8080/",
          "height": 675
        },
        "id": "Q_jgulT-tm8O",
        "outputId": "e39f9ac1-45f0-4120-dde7-ea9f21618e50"
      },
      "outputs": [
        {
          "data": {
            "image/png": "[encoded data removed]",
            "text/plain": [
              "<Figure size 800x800 with 1 Axes>"
            ]
          },
          "metadata": {},
          "output_type": "display_data"
        }
      ],
      "source": [
        "fatal_counts = df_initial[df_initial['fatal'].isin(['Y', 'N'])]['fatal'].value_counts()\n",
        "\n",
        "plt.figure(figsize=(8, 8))\n",
        "plt.pie(fatal_counts, labels=['Non-Fatal (N)', 'Fatal (Y)'], autopct='%1.1f%%', startangle=140)\n",
        "plt.title('Proportion of Fatal Shark Attacks in Florida and California')\n",
        "plt.show()\n"
      ]
    },
    {
      "cell_type": "code",
      "execution_count": 41,
      "metadata": {
        "colab": {
          "base_uri": "https://localhost:8080/",
          "height": 564
        },
        "id": "aRo5o7tpw2cR",
        "outputId": "2a759b30-e5db-498e-c3db-73bcd0698f67"
      },
      "outputs": [
        {
          "data": {
            "image/png": "[encoded data removed]",
            "text/plain": [
              "<Figure size 1000x600 with 1 Axes>"
            ]
          },
          "metadata": {},
          "output_type": "display_data"
        }
      ],
      "source": [
        "pattern = 'white.*shark'\n",
        "white_sharks_df = df_initial[df_initial['species'].str.contains(pattern, case=False, na=False)]\n",
        "\n",
        "white_sharks_filtered = white_sharks_df[(white_sharks_df['state'].isin(['florida', 'california'])) &\n",
        "                                        (white_sharks_df['year'] >= 1980)]\n",
        "\n",
        "white_sharks_filtered['year'] = white_sharks_filtered['year'].astype(int)\n",
        "\n",
        "grouped_data = white_sharks_filtered.groupby(['year', 'state']).size().unstack(fill_value=0)\n",
        "\n",
        "grouped_data.plot(kind='line', marker='', figsize=(10, 6))\n",
        "plt.title('Number of White Shark Attacks in California Since 1980')\n",
        "plt.xlabel('Year')\n",
        "plt.ylabel('Number of Attacks')\n",
        "plt.legend(title='State')\n",
        "plt.grid(True)\n",
        "plt.show()\n"
      ]
    },
    {
      "cell_type": "code",
      "execution_count": null,
      "metadata": {
        "id": "BVE2_olz6kNu"
      },
      "outputs": [],
      "source": []
    }
  ],
  "metadata": {
    "colab": {
      "provenance": []
    },
    "kernelspec": {
      "display_name": "Python 3",
      "name": "python3"
    },
    "language_info": {
      "codemirror_mode": {
        "name": "ipython",
        "version": 3
      },
      "file_extension": ".py",
      "mimetype": "text/x-python",
      "name": "python",
      "nbconvert_exporter": "python",
      "pygments_lexer": "ipython3",
      "version": "3.12.1"
    }
  },
  "nbformat": 4,
  "nbformat_minor": 0
}
